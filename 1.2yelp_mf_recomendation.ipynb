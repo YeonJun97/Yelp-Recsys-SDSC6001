{
  "nbformat": 4,
  "nbformat_minor": 0,
  "metadata": {
    "colab": {
      "provenance": [],
      "machine_shape": "hm"
    },
    "kernelspec": {
      "name": "python3",
      "display_name": "Python 3"
    },
    "accelerator": "TPU"
  },
  "cells": [
    {
      "cell_type": "markdown",
      "metadata": {
        "id": "view-in-github"
      },
      "source": [
        "<a href=\"https://colab.research.google.com/github/stxupengyu/NCF-MF-for-Recommendation/blob/main/yelp_mf_recomendation.ipynb\" target=\"_parent\"><img src=\"https://colab.research.google.com/assets/colab-badge.svg\" alt=\"Open In Colab\"/></a>"
      ]
    },
    {
      "cell_type": "markdown",
      "metadata": {
        "id": "ZFFGpJWHrKrQ"
      },
      "source": [
        "#Link Google Drive"
      ]
    },
    {
      "cell_type": "code",
      "metadata": {
        "id": "PvDM6Lhkj-L3",
        "colab": {
          "base_uri": "https://localhost:8080/"
        },
        "outputId": "6bc790b4-9599-4d3c-a137-019ad3136cb2"
      },
      "source": [
        "#link google drive\n",
        "from google.colab import drive\n",
        "drive.mount('/content/drive')"
      ],
      "execution_count": null,
      "outputs": [
        {
          "output_type": "stream",
          "name": "stdout",
          "text": [
            "Drive already mounted at /content/drive; to attempt to forcibly remount, call drive.mount(\"/content/drive\", force_remount=True).\n"
          ]
        }
      ]
    },
    {
      "cell_type": "code",
      "metadata": {
        "id": "1y171CHjj-FI",
        "colab": {
          "base_uri": "https://localhost:8080/"
        },
        "outputId": "cff3ac3b-3d71-4dba-97a9-51f2b4cb84b0"
      },
      "source": [
        "#enter the folder\n",
        "!ls\n",
        "import os\n",
        "os.chdir('/content/drive/MyDrive/Colab Notebooks/Dataset@Yelp')\n",
        "!ls"
      ],
      "execution_count": null,
      "outputs": [
        {
          "output_type": "stream",
          "name": "stdout",
          "text": [
            "drive  sample_data\n",
            "best_model.h5\t\t    rating_text.csv\t\t\t yelp_academic_dataset_review.csv\n",
            "business_data_subset.csv    yelp_academic_dataset_business.csv\t yelp_academic_dataset_review.json\n",
            "Dataset_User_Agreement.pdf  yelp_academic_dataset_business.json  yelp_academic_dataset_tip.json\n",
            "rating.csv\t\t    yelp_academic_dataset_checkin.json\t yelp_academic_dataset_user.json\n"
          ]
        }
      ]
    },
    {
      "cell_type": "code",
      "source": [
        "!pip install surprise"
      ],
      "metadata": {
        "colab": {
          "base_uri": "https://localhost:8080/"
        },
        "id": "CwsSmkW5bREL",
        "outputId": "a4108c90-7db9-4d93-abf3-cecc8cc9a65f"
      },
      "execution_count": null,
      "outputs": [
        {
          "output_type": "stream",
          "name": "stdout",
          "text": [
            "Requirement already satisfied: surprise in /usr/local/lib/python3.10/dist-packages (0.1)\n",
            "Requirement already satisfied: scikit-surprise in /usr/local/lib/python3.10/dist-packages (from surprise) (1.1.3)\n",
            "Requirement already satisfied: joblib>=1.0.0 in /usr/local/lib/python3.10/dist-packages (from scikit-surprise->surprise) (1.4.0)\n",
            "Requirement already satisfied: numpy>=1.17.3 in /usr/local/lib/python3.10/dist-packages (from scikit-surprise->surprise) (1.23.5)\n",
            "Requirement already satisfied: scipy>=1.3.2 in /usr/local/lib/python3.10/dist-packages (from scikit-surprise->surprise) (1.11.4)\n"
          ]
        }
      ]
    },
    {
      "cell_type": "code",
      "metadata": {
        "id": "oNNoKB4-pQMP"
      },
      "source": [
        "#!pip install scikit-surprise\n",
        "from surprise import SVD,SVDpp,NormalPredictor,NMF,KNNBasic\n",
        "from surprise import Dataset\n",
        "from surprise.model_selection import cross_validate\n",
        "from surprise import Reader\n",
        "from surprise import accuracy\n",
        "from surprise.model_selection import KFold, split\n",
        "from surprise.model_selection import train_test_split\n",
        "import pandas as pd\n",
        "# 指定文件所在路径\n",
        "file_path = os.path.expanduser('rating.csv')\n",
        "\n",
        "# Instantiating Reader scale with expected rating scale\n",
        "reader = Reader(line_format='user item rating', sep=',')\n",
        "\n",
        "# Loading the dataset\n",
        "data = Dataset.load_from_file(file_path, reader=reader)\n",
        "\n",
        "# Splitting the data into train and test datasets\n",
        "trainset, testset = train_test_split(data, test_size = 0.2, random_state = 62)"
      ],
      "execution_count": null,
      "outputs": []
    },
    {
      "cell_type": "code",
      "metadata": {
        "id": "zu6V3SHgxjXc"
      },
      "source": [
        "# Using purely random predictor\n",
        "algo0 = NormalPredictor()\n",
        "\n",
        "# Using user-based collaborative filtering algorithm\n",
        "sim_options = {'name': 'pearson_baseline'}\n",
        "algo1 = KNNBasic(k=5, min_k=1, sim_options=sim_options)\n",
        "# k: number of neighbors, sim_options: similarity criteria used\n",
        "\n",
        "# Using FunkSVD\n",
        "algo2 = SVD(biased=False, n_factors=50, n_epochs=20, lr_all=0.005, reg_all=0.02)\n",
        "# n_factors: number of features dimensions, n_epochs: number of iterations, lr_all: learning rate, reg_all: regularization coefficient\n",
        "\n",
        "# Using BiasSVD\n",
        "algo3 = SVD(biased=True, n_factors=50, n_epochs=20, lr_all=0.005, reg_all=0.02)\n",
        "# biased: whether to use biased SVD, n_factors: number of feature dimensions, n_epochs: number of iterations, lr_all: learning rate, reg_all: regularization coefficient\n",
        "\n",
        "# Using SVD++\n",
        "algo4 = SVDpp(n_factors=50, n_epochs=20, lr_all=0.005, reg_all=0.02)\n",
        "# n_factors: number of feature dimensions, n_epochs: number of iterations, lr_all: learning rate, reg_all: regularization coefficient\n",
        "\n",
        "# Using Non-negative Matrix Factorization\n",
        "algo5 = NMF(n_factors=50, n_epochs=20)\n",
        "# n_factors: number of feature dimensions, n_epochs: number of iterations"
      ],
      "execution_count": null,
      "outputs": []
    },
    {
      "cell_type": "code",
      "metadata": {
        "id": "UaUvFGQpBH3z",
        "colab": {
          "base_uri": "https://localhost:8080/"
        },
        "outputId": "8958f9ad-7cb0-41e9-89dd-275041115fe7"
      },
      "source": [
        "# Run 5-fold cross-validation and print results\n",
        "algo0_result=cross_validate(algo0, data, measures=['RMSE', 'MAE'], cv=5, verbose=True)\n",
        "#algo1_result=cross_validate(algo1, data, measures=['RMSE', 'MAE'], cv=5, verbose=True)\n",
        "algo2_result=cross_validate(algo2, data, measures=['RMSE', 'MAE'], cv=5, verbose=True)\n",
        "algo3_result=cross_validate(algo3, data, measures=['RMSE', 'MAE'], cv=5, verbose=True)\n",
        "algo4_result=cross_validate(algo4, data, measures=['RMSE', 'MAE'], cv=5, verbose=True)\n",
        "algo5_result=cross_validate(algo5, data, measures=['RMSE', 'MAE'], cv=5, verbose=True)"
      ],
      "execution_count": null,
      "outputs": [
        {
          "output_type": "stream",
          "name": "stdout",
          "text": [
            "Evaluating RMSE, MAE of algorithm NormalPredictor on 5 split(s).\n",
            "\n",
            "                  Fold 1  Fold 2  Fold 3  Fold 4  Fold 5  Mean    Std     \n",
            "RMSE (testset)    1.7478  1.7511  1.7571  1.7511  1.7433  1.7501  0.0045  \n",
            "MAE (testset)     1.3738  1.3787  1.3794  1.3767  1.3740  1.3765  0.0023  \n",
            "Fit time          0.17    0.25    0.24    0.25    0.24    0.23    0.03    \n",
            "Test time         0.16    0.15    0.14    0.31    0.15    0.18    0.07    \n",
            "Evaluating RMSE, MAE of algorithm SVD on 5 split(s).\n",
            "\n",
            "                  Fold 1  Fold 2  Fold 3  Fold 4  Fold 5  Mean    Std     \n",
            "RMSE (testset)    1.9725  1.9740  1.9772  1.9841  1.9690  1.9754  0.0051  \n",
            "MAE (testset)     1.6034  1.6070  1.6100  1.6146  1.6029  1.6076  0.0044  \n",
            "Fit time          1.85    1.84    1.91    1.89    1.84    1.86    0.03    \n",
            "Test time         0.22    0.21    0.20    0.45    0.45    0.31    0.12    \n",
            "Evaluating RMSE, MAE of algorithm SVD on 5 split(s).\n",
            "\n",
            "                  Fold 1  Fold 2  Fold 3  Fold 4  Fold 5  Mean    Std     \n",
            "RMSE (testset)    1.2064  1.2065  1.1964  1.2049  1.2036  1.2036  0.0038  \n",
            "MAE (testset)     0.9562  0.9567  0.9490  0.9535  0.9548  0.9540  0.0028  \n",
            "Fit time          1.81    1.80    1.93    1.93    1.87    1.87    0.06    \n",
            "Test time         0.48    0.20    0.25    0.23    0.22    0.28    0.10    \n",
            "Evaluating RMSE, MAE of algorithm SVDpp on 5 split(s).\n",
            "\n",
            "                  Fold 1  Fold 2  Fold 3  Fold 4  Fold 5  Mean    Std     \n",
            "RMSE (testset)    1.2324  1.2350  1.2285  1.2173  1.2227  1.2272  0.0065  \n",
            "MAE (testset)     0.9879  0.9866  0.9828  0.9712  0.9758  0.9809  0.0064  \n",
            "Fit time          5.99    5.93    6.06    5.78    5.94    5.94    0.09    \n",
            "Test time         0.70    0.64    0.67    0.70    0.97    0.74    0.12    \n",
            "Evaluating RMSE, MAE of algorithm NMF on 5 split(s).\n",
            "\n",
            "                  Fold 1  Fold 2  Fold 3  Fold 4  Fold 5  Mean    Std     \n",
            "RMSE (testset)    1.5278  1.5221  1.5158  1.5305  1.5309  1.5254  0.0057  \n",
            "MAE (testset)     1.1515  1.1446  1.1425  1.1556  1.1530  1.1494  0.0050  \n",
            "Fit time          6.33    6.38    6.55    6.49    6.53    6.46    0.09    \n",
            "Test time         0.20    0.24    0.23    0.18    0.25    0.22    0.03    \n"
          ]
        }
      ]
    }
  ]
}