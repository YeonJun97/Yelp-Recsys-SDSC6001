{
  "nbformat": 4,
  "nbformat_minor": 0,
  "metadata": {
    "colab": {
      "provenance": [],
      "machine_shape": "hm",
      "gpuType": "L4"
    },
    "kernelspec": {
      "display_name": "Python 3",
      "name": "python3"
    },
    "accelerator": "GPU"
  },
  "cells": [
    {
      "cell_type": "markdown",
      "metadata": {
        "id": "view-in-github"
      },
      "source": [
        "<a href=\"https://colab.research.google.com/github/stxupengyu/NCF-MF-for-Recommendation/blob/main/yelp_nn_recomendation.ipynb\" target=\"_parent\"><img src=\"https://colab.research.google.com/assets/colab-badge.svg\" alt=\"Open In Colab\"/></a>"
      ]
    },
    {
      "cell_type": "markdown",
      "metadata": {
        "id": "ZFFGpJWHrKrQ"
      },
      "source": [
        "#Link Google Drive"
      ]
    },
    {
      "cell_type": "code",
      "metadata": {
        "id": "PvDM6Lhkj-L3",
        "colab": {
          "base_uri": "https://localhost:8080/"
        },
        "outputId": "aca14266-942e-49a2-ff9b-2b983932e26c"
      },
      "source": [
        "#link google drive\n",
        "from google.colab import drive\n",
        "drive.mount('/content/drive')"
      ],
      "execution_count": 1,
      "outputs": [
        {
          "output_type": "stream",
          "name": "stdout",
          "text": [
            "Drive already mounted at /content/drive; to attempt to forcibly remount, call drive.mount(\"/content/drive\", force_remount=True).\n"
          ]
        }
      ]
    },
    {
      "cell_type": "code",
      "metadata": {
        "id": "1y171CHjj-FI",
        "colab": {
          "base_uri": "https://localhost:8080/"
        },
        "outputId": "fe2c9f1a-7678-4a84-c263-54dfa5a6415c"
      },
      "source": [
        "#enter the folder\n",
        "!ls\n",
        "import os\n",
        "os.chdir('/content/drive/MyDrive/Colab Notebooks/Dataset@Yelp')\n",
        "!ls"
      ],
      "execution_count": 2,
      "outputs": [
        {
          "output_type": "stream",
          "name": "stdout",
          "text": [
            "drive  sample_data\n",
            "best_model.h5\t\t    rating_text.csv\t\t\t yelp_academic_dataset_checkin.json\n",
            "business_data_subset.csv    test.csv\t\t\t\t yelp_academic_dataset_review.csv\n",
            "Dataset_User_Agreement.pdf  train.csv\t\t\t\t yelp_academic_dataset_review.json\n",
            "rating.csv\t\t    yelp_academic_dataset_business.csv\t yelp_academic_dataset_tip.json\n",
            "rating_review_emb.csv\t    yelp_academic_dataset_business.json  yelp_academic_dataset_user.json\n"
          ]
        }
      ]
    },
    {
      "cell_type": "code",
      "metadata": {
        "id": "LVc5hzZEFL9J",
        "colab": {
          "base_uri": "https://localhost:8080/",
          "height": 112
        },
        "outputId": "2cdddd55-7659-48e0-b1e4-8c9d5bc247ac"
      },
      "source": [
        "import pandas as pd\n",
        "import numpy as np\n",
        "import matplotlib.pyplot as plt\n",
        "\n",
        "data=pd.read_csv('rating_text.csv')\n",
        "display(data.tail(2))"
      ],
      "execution_count": 3,
      "outputs": [
        {
          "output_type": "display_data",
          "data": {
            "text/plain": [
              "        user_id  business_id  stars  \\\n",
              "150853    68981         2703    1.0   \n",
              "150854    26444         2704    5.0   \n",
              "\n",
              "                                                     text  \n",
              "150853  I don't recommend ordering food from this rest...  \n",
              "150854  There aren't enough words I can say about how ...  "
            ],
            "text/html": [
              "\n",
              "  <div id=\"df-eaf4a1dd-1806-46d9-99cf-e21073233a68\" class=\"colab-df-container\">\n",
              "    <div>\n",
              "<style scoped>\n",
              "    .dataframe tbody tr th:only-of-type {\n",
              "        vertical-align: middle;\n",
              "    }\n",
              "\n",
              "    .dataframe tbody tr th {\n",
              "        vertical-align: top;\n",
              "    }\n",
              "\n",
              "    .dataframe thead th {\n",
              "        text-align: right;\n",
              "    }\n",
              "</style>\n",
              "<table border=\"1\" class=\"dataframe\">\n",
              "  <thead>\n",
              "    <tr style=\"text-align: right;\">\n",
              "      <th></th>\n",
              "      <th>user_id</th>\n",
              "      <th>business_id</th>\n",
              "      <th>stars</th>\n",
              "      <th>text</th>\n",
              "    </tr>\n",
              "  </thead>\n",
              "  <tbody>\n",
              "    <tr>\n",
              "      <th>150853</th>\n",
              "      <td>68981</td>\n",
              "      <td>2703</td>\n",
              "      <td>1.0</td>\n",
              "      <td>I don't recommend ordering food from this rest...</td>\n",
              "    </tr>\n",
              "    <tr>\n",
              "      <th>150854</th>\n",
              "      <td>26444</td>\n",
              "      <td>2704</td>\n",
              "      <td>5.0</td>\n",
              "      <td>There aren't enough words I can say about how ...</td>\n",
              "    </tr>\n",
              "  </tbody>\n",
              "</table>\n",
              "</div>\n",
              "    <div class=\"colab-df-buttons\">\n",
              "\n",
              "  <div class=\"colab-df-container\">\n",
              "    <button class=\"colab-df-convert\" onclick=\"convertToInteractive('df-eaf4a1dd-1806-46d9-99cf-e21073233a68')\"\n",
              "            title=\"Convert this dataframe to an interactive table.\"\n",
              "            style=\"display:none;\">\n",
              "\n",
              "  <svg xmlns=\"http://www.w3.org/2000/svg\" height=\"24px\" viewBox=\"0 -960 960 960\">\n",
              "    <path d=\"M120-120v-720h720v720H120Zm60-500h600v-160H180v160Zm220 220h160v-160H400v160Zm0 220h160v-160H400v160ZM180-400h160v-160H180v160Zm440 0h160v-160H620v160ZM180-180h160v-160H180v160Zm440 0h160v-160H620v160Z\"/>\n",
              "  </svg>\n",
              "    </button>\n",
              "\n",
              "  <style>\n",
              "    .colab-df-container {\n",
              "      display:flex;\n",
              "      gap: 12px;\n",
              "    }\n",
              "\n",
              "    .colab-df-convert {\n",
              "      background-color: #E8F0FE;\n",
              "      border: none;\n",
              "      border-radius: 50%;\n",
              "      cursor: pointer;\n",
              "      display: none;\n",
              "      fill: #1967D2;\n",
              "      height: 32px;\n",
              "      padding: 0 0 0 0;\n",
              "      width: 32px;\n",
              "    }\n",
              "\n",
              "    .colab-df-convert:hover {\n",
              "      background-color: #E2EBFA;\n",
              "      box-shadow: 0px 1px 2px rgba(60, 64, 67, 0.3), 0px 1px 3px 1px rgba(60, 64, 67, 0.15);\n",
              "      fill: #174EA6;\n",
              "    }\n",
              "\n",
              "    .colab-df-buttons div {\n",
              "      margin-bottom: 4px;\n",
              "    }\n",
              "\n",
              "    [theme=dark] .colab-df-convert {\n",
              "      background-color: #3B4455;\n",
              "      fill: #D2E3FC;\n",
              "    }\n",
              "\n",
              "    [theme=dark] .colab-df-convert:hover {\n",
              "      background-color: #434B5C;\n",
              "      box-shadow: 0px 1px 3px 1px rgba(0, 0, 0, 0.15);\n",
              "      filter: drop-shadow(0px 1px 2px rgba(0, 0, 0, 0.3));\n",
              "      fill: #FFFFFF;\n",
              "    }\n",
              "  </style>\n",
              "\n",
              "    <script>\n",
              "      const buttonEl =\n",
              "        document.querySelector('#df-eaf4a1dd-1806-46d9-99cf-e21073233a68 button.colab-df-convert');\n",
              "      buttonEl.style.display =\n",
              "        google.colab.kernel.accessAllowed ? 'block' : 'none';\n",
              "\n",
              "      async function convertToInteractive(key) {\n",
              "        const element = document.querySelector('#df-eaf4a1dd-1806-46d9-99cf-e21073233a68');\n",
              "        const dataTable =\n",
              "          await google.colab.kernel.invokeFunction('convertToInteractive',\n",
              "                                                    [key], {});\n",
              "        if (!dataTable) return;\n",
              "\n",
              "        const docLinkHtml = 'Like what you see? Visit the ' +\n",
              "          '<a target=\"_blank\" href=https://colab.research.google.com/notebooks/data_table.ipynb>data table notebook</a>'\n",
              "          + ' to learn more about interactive tables.';\n",
              "        element.innerHTML = '';\n",
              "        dataTable['output_type'] = 'display_data';\n",
              "        await google.colab.output.renderOutput(dataTable, element);\n",
              "        const docLink = document.createElement('div');\n",
              "        docLink.innerHTML = docLinkHtml;\n",
              "        element.appendChild(docLink);\n",
              "      }\n",
              "    </script>\n",
              "  </div>\n",
              "\n",
              "\n",
              "<div id=\"df-e7d79ca6-b129-4569-9500-8ba605b137c2\">\n",
              "  <button class=\"colab-df-quickchart\" onclick=\"quickchart('df-e7d79ca6-b129-4569-9500-8ba605b137c2')\"\n",
              "            title=\"Suggest charts\"\n",
              "            style=\"display:none;\">\n",
              "\n",
              "<svg xmlns=\"http://www.w3.org/2000/svg\" height=\"24px\"viewBox=\"0 0 24 24\"\n",
              "     width=\"24px\">\n",
              "    <g>\n",
              "        <path d=\"M19 3H5c-1.1 0-2 .9-2 2v14c0 1.1.9 2 2 2h14c1.1 0 2-.9 2-2V5c0-1.1-.9-2-2-2zM9 17H7v-7h2v7zm4 0h-2V7h2v10zm4 0h-2v-4h2v4z\"/>\n",
              "    </g>\n",
              "</svg>\n",
              "  </button>\n",
              "\n",
              "<style>\n",
              "  .colab-df-quickchart {\n",
              "      --bg-color: #E8F0FE;\n",
              "      --fill-color: #1967D2;\n",
              "      --hover-bg-color: #E2EBFA;\n",
              "      --hover-fill-color: #174EA6;\n",
              "      --disabled-fill-color: #AAA;\n",
              "      --disabled-bg-color: #DDD;\n",
              "  }\n",
              "\n",
              "  [theme=dark] .colab-df-quickchart {\n",
              "      --bg-color: #3B4455;\n",
              "      --fill-color: #D2E3FC;\n",
              "      --hover-bg-color: #434B5C;\n",
              "      --hover-fill-color: #FFFFFF;\n",
              "      --disabled-bg-color: #3B4455;\n",
              "      --disabled-fill-color: #666;\n",
              "  }\n",
              "\n",
              "  .colab-df-quickchart {\n",
              "    background-color: var(--bg-color);\n",
              "    border: none;\n",
              "    border-radius: 50%;\n",
              "    cursor: pointer;\n",
              "    display: none;\n",
              "    fill: var(--fill-color);\n",
              "    height: 32px;\n",
              "    padding: 0;\n",
              "    width: 32px;\n",
              "  }\n",
              "\n",
              "  .colab-df-quickchart:hover {\n",
              "    background-color: var(--hover-bg-color);\n",
              "    box-shadow: 0 1px 2px rgba(60, 64, 67, 0.3), 0 1px 3px 1px rgba(60, 64, 67, 0.15);\n",
              "    fill: var(--button-hover-fill-color);\n",
              "  }\n",
              "\n",
              "  .colab-df-quickchart-complete:disabled,\n",
              "  .colab-df-quickchart-complete:disabled:hover {\n",
              "    background-color: var(--disabled-bg-color);\n",
              "    fill: var(--disabled-fill-color);\n",
              "    box-shadow: none;\n",
              "  }\n",
              "\n",
              "  .colab-df-spinner {\n",
              "    border: 2px solid var(--fill-color);\n",
              "    border-color: transparent;\n",
              "    border-bottom-color: var(--fill-color);\n",
              "    animation:\n",
              "      spin 1s steps(1) infinite;\n",
              "  }\n",
              "\n",
              "  @keyframes spin {\n",
              "    0% {\n",
              "      border-color: transparent;\n",
              "      border-bottom-color: var(--fill-color);\n",
              "      border-left-color: var(--fill-color);\n",
              "    }\n",
              "    20% {\n",
              "      border-color: transparent;\n",
              "      border-left-color: var(--fill-color);\n",
              "      border-top-color: var(--fill-color);\n",
              "    }\n",
              "    30% {\n",
              "      border-color: transparent;\n",
              "      border-left-color: var(--fill-color);\n",
              "      border-top-color: var(--fill-color);\n",
              "      border-right-color: var(--fill-color);\n",
              "    }\n",
              "    40% {\n",
              "      border-color: transparent;\n",
              "      border-right-color: var(--fill-color);\n",
              "      border-top-color: var(--fill-color);\n",
              "    }\n",
              "    60% {\n",
              "      border-color: transparent;\n",
              "      border-right-color: var(--fill-color);\n",
              "    }\n",
              "    80% {\n",
              "      border-color: transparent;\n",
              "      border-right-color: var(--fill-color);\n",
              "      border-bottom-color: var(--fill-color);\n",
              "    }\n",
              "    90% {\n",
              "      border-color: transparent;\n",
              "      border-bottom-color: var(--fill-color);\n",
              "    }\n",
              "  }\n",
              "</style>\n",
              "\n",
              "  <script>\n",
              "    async function quickchart(key) {\n",
              "      const quickchartButtonEl =\n",
              "        document.querySelector('#' + key + ' button');\n",
              "      quickchartButtonEl.disabled = true;  // To prevent multiple clicks.\n",
              "      quickchartButtonEl.classList.add('colab-df-spinner');\n",
              "      try {\n",
              "        const charts = await google.colab.kernel.invokeFunction(\n",
              "            'suggestCharts', [key], {});\n",
              "      } catch (error) {\n",
              "        console.error('Error during call to suggestCharts:', error);\n",
              "      }\n",
              "      quickchartButtonEl.classList.remove('colab-df-spinner');\n",
              "      quickchartButtonEl.classList.add('colab-df-quickchart-complete');\n",
              "    }\n",
              "    (() => {\n",
              "      let quickchartButtonEl =\n",
              "        document.querySelector('#df-e7d79ca6-b129-4569-9500-8ba605b137c2 button');\n",
              "      quickchartButtonEl.style.display =\n",
              "        google.colab.kernel.accessAllowed ? 'block' : 'none';\n",
              "    })();\n",
              "  </script>\n",
              "</div>\n",
              "    </div>\n",
              "  </div>\n"
            ],
            "application/vnd.google.colaboratory.intrinsic+json": {
              "type": "dataframe",
              "summary": "{\n  \"name\": \"display(data\",\n  \"rows\": 2,\n  \"fields\": [\n    {\n      \"column\": \"user_id\",\n      \"properties\": {\n        \"dtype\": \"number\",\n        \"std\": 30078,\n        \"min\": 26444,\n        \"max\": 68981,\n        \"num_unique_values\": 2,\n        \"samples\": [\n          26444,\n          68981\n        ],\n        \"semantic_type\": \"\",\n        \"description\": \"\"\n      }\n    },\n    {\n      \"column\": \"business_id\",\n      \"properties\": {\n        \"dtype\": \"number\",\n        \"std\": 0,\n        \"min\": 2703,\n        \"max\": 2704,\n        \"num_unique_values\": 2,\n        \"samples\": [\n          2704,\n          2703\n        ],\n        \"semantic_type\": \"\",\n        \"description\": \"\"\n      }\n    },\n    {\n      \"column\": \"stars\",\n      \"properties\": {\n        \"dtype\": \"number\",\n        \"std\": 2.8284271247461903,\n        \"min\": 1.0,\n        \"max\": 5.0,\n        \"num_unique_values\": 2,\n        \"samples\": [\n          5.0,\n          1.0\n        ],\n        \"semantic_type\": \"\",\n        \"description\": \"\"\n      }\n    },\n    {\n      \"column\": \"text\",\n      \"properties\": {\n        \"dtype\": \"string\",\n        \"num_unique_values\": 2,\n        \"samples\": [\n          \"There aren't enough words I can say about how great our real estate agent Lorin Lyle was. He helped my wife and I understand the process of buying our first home, went to bat for us, helped us fight through the process which at times seemed so impossible.\\n\\nQuite simply, Lorin made the impossible, possible. Would recommend them to ANYONE and would use them again in a heartbeat.\",\n          \"I don't recommend ordering food from this restaurant for two reasons. \\n\\nThe first reason why you should skip this restaurant is that their service is really really slow - it took 10 minutes to get a breakfast sandwich even though only one party was ahead of me in line. \\n\\nThe second reason I suggest you never ever eat here is that they charge 15 cents for a water cup. Seriously?  \\n\\nNuff said. Eat at Goldie's or one of the other better restaurants in Franklin's Table food court.\"\n        ],\n        \"semantic_type\": \"\",\n        \"description\": \"\"\n      }\n    }\n  ]\n}"
            }
          },
          "metadata": {}
        }
      ]
    },
    {
      "cell_type": "code",
      "source": [
        "data.info()"
      ],
      "metadata": {
        "colab": {
          "base_uri": "https://localhost:8080/"
        },
        "id": "HK0hdOphwf48",
        "outputId": "90604405-10e3-4161-c86f-cdd9323a1e91"
      },
      "execution_count": 4,
      "outputs": [
        {
          "output_type": "stream",
          "name": "stdout",
          "text": [
            "<class 'pandas.core.frame.DataFrame'>\n",
            "RangeIndex: 150855 entries, 0 to 150854\n",
            "Data columns (total 4 columns):\n",
            " #   Column       Non-Null Count   Dtype  \n",
            "---  ------       --------------   -----  \n",
            " 0   user_id      150855 non-null  int64  \n",
            " 1   business_id  150855 non-null  int64  \n",
            " 2   stars        150855 non-null  float64\n",
            " 3   text         150855 non-null  object \n",
            "dtypes: float64(1), int64(2), object(1)\n",
            "memory usage: 4.6+ MB\n"
          ]
        }
      ]
    },
    {
      "cell_type": "code",
      "metadata": {
        "id": "p5g5xwMoPZfV"
      },
      "source": [
        "n_users, n_rests, max_rating = data.iloc[:,:3].max()\n",
        "min_rating = data.iloc[:,2].min()\n",
        "n_factors = 1000"
      ],
      "execution_count": 5,
      "outputs": []
    },
    {
      "cell_type": "code",
      "metadata": {
        "id": "TXYZSAZUDAXi",
        "colab": {
          "base_uri": "https://localhost:8080/"
        },
        "outputId": "1bc905e0-64ec-4baa-ffc2-8539b0cd0ed9"
      },
      "source": [
        "from sklearn.model_selection import train_test_split\n",
        "\n",
        "X = data[['user_id', 'business_id']].values\n",
        "y = data['stars'].values\n",
        "\n",
        "X_train_keras, X_test_keras, y_train_keras, y_test_keras = train_test_split(X, y, test_size=0.2, random_state=42)\n",
        "X_train_keras.shape, X_test_keras.shape, y_train_keras.shape, y_test_keras.shape"
      ],
      "execution_count": 6,
      "outputs": [
        {
          "output_type": "execute_result",
          "data": {
            "text/plain": [
              "((120684, 2), (30171, 2), (120684,), (30171,))"
            ]
          },
          "metadata": {},
          "execution_count": 6
        }
      ]
    },
    {
      "cell_type": "code",
      "metadata": {
        "id": "pKMoC6IuH-C8"
      },
      "source": [
        "X_train_array = [X_train_keras[:, 0], X_train_keras[:, 1]]\n",
        "X_test_array = [X_test_keras[:, 0], X_test_keras[:, 1]]"
      ],
      "execution_count": 7,
      "outputs": []
    },
    {
      "cell_type": "markdown",
      "source": [
        "## NCF Baseline Model"
      ],
      "metadata": {
        "id": "YbCZ-RhFgU8X"
      }
    },
    {
      "cell_type": "code",
      "metadata": {
        "id": "jjVGEZh5H-Hl"
      },
      "source": [
        "def Recommender(n_users, n_rests, n_factors, min_rating, max_rating):\n",
        "    user = Input(shape=(1,))\n",
        "    u = EmbeddingLayer(n_users, n_factors)(user)\n",
        "    ub = EmbeddingLayer(n_users, 1)(user)\n",
        "\n",
        "    restaurant = Input(shape=(1,))\n",
        "    m = EmbeddingLayer(n_rests, n_factors)(restaurant)\n",
        "    mb = EmbeddingLayer(n_rests, 1)(restaurant)\n",
        "\n",
        "    x = Dot(axes=1)([u, m])\n",
        "    x = Add()([x, ub, mb])\n",
        "    x = Activation('sigmoid')(x)\n",
        "    x = Lambda(lambda x: x * (max_rating - min_rating) + min_rating)(x)\n",
        "\n",
        "    model = Model(inputs=[user, restaurant], outputs=x)\n",
        "    opt = Adam(lr=0.001)\n",
        "    model.compile(loss='mean_squared_error', optimizer=opt, metrics=['mae','mse'])\n",
        "\n",
        "    return model\n"
      ],
      "execution_count": null,
      "outputs": []
    },
    {
      "cell_type": "code",
      "metadata": {
        "id": "awOFl8iQOpZJ",
        "colab": {
          "base_uri": "https://localhost:8080/"
        },
        "outputId": "4e0c00cc-e71e-4e86-ab06-2fb68e48c484"
      },
      "source": [
        "from sklearn.metrics import mean_absolute_error\n",
        "from sklearn.metrics import mean_squared_error\n",
        "from keras.callbacks import ModelCheckpoint, EarlyStopping\n",
        "\n",
        "#保存最好的模型\n",
        "model_name='best_model.h5'\n",
        "es = EarlyStopping(monitor='val_loss', patience=2)\n",
        "cp = ModelCheckpoint(filepath=model_name, monitor='val_loss', save_best_only=True)\n",
        "keras_model = Recommender(int(n_users)+1, int(n_rests)+1, n_factors, min_rating, max_rating)\n",
        "keras_model.summary()\n",
        "history = keras_model.fit(x=X_train_array, y=y_train_keras, batch_size=64,\\\n",
        "      epochs=150, verbose=1, callbacks=[es, cp], validation_data=(X_test_array, y_test_keras))\n"
      ],
      "execution_count": null,
      "outputs": [
        {
          "output_type": "stream",
          "name": "stderr",
          "text": [
            "WARNING:absl:`lr` is deprecated in Keras optimizer, please use `learning_rate` or use the legacy optimizer, e.g.,tf.keras.optimizers.legacy.Adam.\n"
          ]
        },
        {
          "output_type": "stream",
          "name": "stdout",
          "text": [
            "Model: \"model\"\n",
            "__________________________________________________________________________________________________\n",
            " Layer (type)                Output Shape                 Param #   Connected to                  \n",
            "==================================================================================================\n",
            " input_1 (InputLayer)        [(None, 1)]                  0         []                            \n",
            "                                                                                                  \n",
            " input_2 (InputLayer)        [(None, 1)]                  0         []                            \n",
            "                                                                                                  \n",
            " embedding (Embedding)       (None, 1, 1000)              7790200   ['input_1[0][0]']             \n",
            "                                                          0                                       \n",
            "                                                                                                  \n",
            " embedding_2 (Embedding)     (None, 1, 1000)              2705000   ['input_2[0][0]']             \n",
            "                                                                                                  \n",
            " reshape (Reshape)           (None, 1000)                 0         ['embedding[0][0]']           \n",
            "                                                                                                  \n",
            " reshape_2 (Reshape)         (None, 1000)                 0         ['embedding_2[0][0]']         \n",
            "                                                                                                  \n",
            " embedding_1 (Embedding)     (None, 1, 1)                 77902     ['input_1[0][0]']             \n",
            "                                                                                                  \n",
            " embedding_3 (Embedding)     (None, 1, 1)                 2705      ['input_2[0][0]']             \n",
            "                                                                                                  \n",
            " dot (Dot)                   (None, 1)                    0         ['reshape[0][0]',             \n",
            "                                                                     'reshape_2[0][0]']           \n",
            "                                                                                                  \n",
            " reshape_1 (Reshape)         (None, 1)                    0         ['embedding_1[0][0]']         \n",
            "                                                                                                  \n",
            " reshape_3 (Reshape)         (None, 1)                    0         ['embedding_3[0][0]']         \n",
            "                                                                                                  \n",
            " add (Add)                   (None, 1)                    0         ['dot[0][0]',                 \n",
            "                                                                     'reshape_1[0][0]',           \n",
            "                                                                     'reshape_3[0][0]']           \n",
            "                                                                                                  \n",
            " activation (Activation)     (None, 1)                    0         ['add[0][0]']                 \n",
            "                                                                                                  \n",
            " lambda (Lambda)             (None, 1)                    0         ['activation[0][0]']          \n",
            "                                                                                                  \n",
            "==================================================================================================\n",
            "Total params: 80687607 (307.80 MB)\n",
            "Trainable params: 80687607 (307.80 MB)\n",
            "Non-trainable params: 0 (0.00 Byte)\n",
            "__________________________________________________________________________________________________\n",
            "Epoch 1/150\n",
            "1885/1886 [============================>.] - ETA: 0s - loss: 2.1526 - mae: 1.3022 - mse: 2.1338"
          ]
        },
        {
          "output_type": "stream",
          "name": "stderr",
          "text": [
            "/usr/local/lib/python3.10/dist-packages/keras/src/engine/training.py:3103: UserWarning: You are saving your model as an HDF5 file via `model.save()`. This file format is considered legacy. We recommend using instead the native Keras format, e.g. `model.save('my_model.keras')`.\n",
            "  saving_api.save_model(\n"
          ]
        },
        {
          "output_type": "stream",
          "name": "stdout",
          "text": [
            "\b\b\b\b\b\b\b\b\b\b\b\b\b\b\b\b\b\b\b\b\b\b\b\b\b\b\b\b\b\b\b\b\b\b\b\b\b\b\b\b\b\b\b\b\b\b\b\b\b\b\b\b\b\b\b\b\b\b\b\b\b\b\b\b\b\b\b\b\b\b\b\b\b\b\b\b\b\b\b\b\b\b\b\b\b\b\b\b\b\b\b\b\b\b\b\r1886/1886 [==============================] - 79s 40ms/step - loss: 2.1524 - mae: 1.3021 - mse: 2.1336 - val_loss: 1.9083 - val_mae: 1.1927 - val_mse: 1.8644\n",
            "Epoch 2/150\n",
            "1886/1886 [==============================] - 60s 32ms/step - loss: 0.5743 - mae: 0.5643 - mse: 0.5060 - val_loss: 1.9328 - val_mae: 1.1742 - val_mse: 1.8404\n",
            "Epoch 3/150\n",
            "1886/1886 [==============================] - 67s 36ms/step - loss: 0.3470 - mae: 0.3658 - mse: 0.2562 - val_loss: 1.8877 - val_mae: 1.1471 - val_mse: 1.7920\n",
            "Epoch 4/150\n",
            "1886/1886 [==============================] - 67s 35ms/step - loss: 0.3427 - mae: 0.3846 - mse: 0.2466 - val_loss: 1.8728 - val_mae: 1.1365 - val_mse: 1.7674\n",
            "Epoch 5/150\n",
            "1886/1886 [==============================] - 67s 35ms/step - loss: 0.3251 - mae: 0.3591 - mse: 0.2250 - val_loss: 1.8309 - val_mae: 1.1164 - val_mse: 1.7260\n",
            "Epoch 6/150\n",
            "1886/1886 [==============================] - 67s 35ms/step - loss: 0.3337 - mae: 0.3645 - mse: 0.2346 - val_loss: 1.8021 - val_mae: 1.1013 - val_mse: 1.6980\n",
            "Epoch 7/150\n",
            "1886/1886 [==============================] - 67s 36ms/step - loss: 0.3281 - mae: 0.3598 - mse: 0.2311 - val_loss: 1.7665 - val_mae: 1.0872 - val_mse: 1.6659\n",
            "Epoch 8/150\n",
            "1886/1886 [==============================] - 67s 36ms/step - loss: 0.3082 - mae: 0.3459 - mse: 0.2139 - val_loss: 1.7453 - val_mae: 1.0775 - val_mse: 1.6472\n",
            "Epoch 9/150\n",
            "1886/1886 [==============================] - 67s 35ms/step - loss: 0.2930 - mae: 0.3354 - mse: 0.2013 - val_loss: 1.7267 - val_mae: 1.0683 - val_mse: 1.6314\n",
            "Epoch 10/150\n",
            "1886/1886 [==============================] - 67s 35ms/step - loss: 0.2818 - mae: 0.3284 - mse: 0.1925 - val_loss: 1.7027 - val_mae: 1.0580 - val_mse: 1.6092\n",
            "Epoch 11/150\n",
            "1886/1886 [==============================] - 67s 36ms/step - loss: 0.2724 - mae: 0.3214 - mse: 0.1850 - val_loss: 1.6896 - val_mae: 1.0511 - val_mse: 1.5985\n",
            "Epoch 12/150\n",
            "1886/1886 [==============================] - 67s 35ms/step - loss: 0.2627 - mae: 0.3148 - mse: 0.1773 - val_loss: 1.6748 - val_mae: 1.0438 - val_mse: 1.5853\n",
            "Epoch 13/150\n",
            "1886/1886 [==============================] - 67s 35ms/step - loss: 0.2536 - mae: 0.3073 - mse: 0.1699 - val_loss: 1.6627 - val_mae: 1.0375 - val_mse: 1.5754\n",
            "Epoch 14/150\n",
            "1886/1886 [==============================] - 67s 35ms/step - loss: 0.2458 - mae: 0.3022 - mse: 0.1638 - val_loss: 1.6494 - val_mae: 1.0312 - val_mse: 1.5637\n",
            "Epoch 15/150\n",
            "1886/1886 [==============================] - 67s 35ms/step - loss: 0.2394 - mae: 0.2969 - mse: 0.1590 - val_loss: 1.6397 - val_mae: 1.0248 - val_mse: 1.5555\n",
            "Epoch 16/150\n",
            "1886/1886 [==============================] - 67s 35ms/step - loss: 0.2318 - mae: 0.2912 - mse: 0.1526 - val_loss: 1.6306 - val_mae: 1.0203 - val_mse: 1.5476\n",
            "Epoch 17/150\n",
            "1886/1886 [==============================] - 66s 35ms/step - loss: 0.2259 - mae: 0.2863 - mse: 0.1480 - val_loss: 1.6215 - val_mae: 1.0148 - val_mse: 1.5399\n",
            "Epoch 18/150\n",
            "1886/1886 [==============================] - 67s 36ms/step - loss: 0.2206 - mae: 0.2815 - mse: 0.1439 - val_loss: 1.6154 - val_mae: 1.0111 - val_mse: 1.5350\n",
            "Epoch 19/150\n",
            "1886/1886 [==============================] - 67s 35ms/step - loss: 0.2157 - mae: 0.2773 - mse: 0.1400 - val_loss: 1.6055 - val_mae: 1.0057 - val_mse: 1.5261\n",
            "Epoch 20/150\n",
            "1886/1886 [==============================] - 67s 35ms/step - loss: 0.2109 - mae: 0.2734 - mse: 0.1362 - val_loss: 1.6018 - val_mae: 1.0019 - val_mse: 1.5234\n",
            "Epoch 21/150\n",
            "1886/1886 [==============================] - 66s 35ms/step - loss: 0.2062 - mae: 0.2690 - mse: 0.1323 - val_loss: 1.5965 - val_mae: 0.9988 - val_mse: 1.5191\n",
            "Epoch 22/150\n",
            "1886/1886 [==============================] - 67s 36ms/step - loss: 0.2031 - mae: 0.2662 - mse: 0.1301 - val_loss: 1.5894 - val_mae: 0.9937 - val_mse: 1.5129\n",
            "Epoch 23/150\n",
            "1886/1886 [==============================] - 67s 35ms/step - loss: 0.1977 - mae: 0.2613 - mse: 0.1254 - val_loss: 1.5878 - val_mae: 0.9917 - val_mse: 1.5120\n",
            "Epoch 24/150\n",
            "1886/1886 [==============================] - 67s 35ms/step - loss: 0.1960 - mae: 0.2596 - mse: 0.1243 - val_loss: 1.5824 - val_mae: 0.9880 - val_mse: 1.5072\n",
            "Epoch 25/150\n",
            "1886/1886 [==============================] - 67s 36ms/step - loss: 0.1916 - mae: 0.2556 - mse: 0.1206 - val_loss: 1.5793 - val_mae: 0.9858 - val_mse: 1.5048\n",
            "Epoch 26/150\n",
            "1886/1886 [==============================] - 79s 42ms/step - loss: 0.1890 - mae: 0.2529 - mse: 0.1185 - val_loss: 1.5744 - val_mae: 0.9816 - val_mse: 1.5004\n",
            "Epoch 27/150\n",
            "1886/1886 [==============================] - 67s 35ms/step - loss: 0.1864 - mae: 0.2502 - mse: 0.1165 - val_loss: 1.5721 - val_mae: 0.9800 - val_mse: 1.4988\n",
            "Epoch 28/150\n",
            "1886/1886 [==============================] - 68s 36ms/step - loss: 0.1832 - mae: 0.2471 - mse: 0.1138 - val_loss: 1.5706 - val_mae: 0.9773 - val_mse: 1.4979\n",
            "Epoch 29/150\n",
            "1886/1886 [==============================] - 67s 36ms/step - loss: 0.1812 - mae: 0.2448 - mse: 0.1123 - val_loss: 1.5664 - val_mae: 0.9749 - val_mse: 1.4942\n",
            "Epoch 30/150\n",
            "1886/1886 [==============================] - 60s 32ms/step - loss: 0.1785 - mae: 0.2430 - mse: 0.1101 - val_loss: 1.5671 - val_mae: 0.9734 - val_mse: 1.4954\n",
            "Epoch 31/150\n",
            "1886/1886 [==============================] - 66s 35ms/step - loss: 0.1768 - mae: 0.2406 - mse: 0.1087 - val_loss: 1.5648 - val_mae: 0.9714 - val_mse: 1.4935\n",
            "Epoch 32/150\n",
            "1886/1886 [==============================] - 60s 32ms/step - loss: 0.1741 - mae: 0.2378 - mse: 0.1064 - val_loss: 1.5652 - val_mae: 0.9700 - val_mse: 1.4942\n",
            "Epoch 33/150\n",
            "1886/1886 [==============================] - 67s 35ms/step - loss: 0.1724 - mae: 0.2357 - mse: 0.1050 - val_loss: 1.5619 - val_mae: 0.9681 - val_mse: 1.4914\n",
            "Epoch 34/150\n",
            "1886/1886 [==============================] - 60s 32ms/step - loss: 0.1705 - mae: 0.2338 - mse: 0.1035 - val_loss: 1.5633 - val_mae: 0.9675 - val_mse: 1.4931\n",
            "Epoch 35/150\n",
            "1886/1886 [==============================] - 67s 36ms/step - loss: 0.1690 - mae: 0.2319 - mse: 0.1022 - val_loss: 1.5601 - val_mae: 0.9646 - val_mse: 1.4903\n",
            "Epoch 36/150\n",
            "1886/1886 [==============================] - 60s 32ms/step - loss: 0.1672 - mae: 0.2304 - mse: 0.1008 - val_loss: 1.5604 - val_mae: 0.9638 - val_mse: 1.4908\n",
            "Epoch 37/150\n",
            "1886/1886 [==============================] - 67s 35ms/step - loss: 0.1653 - mae: 0.2282 - mse: 0.0991 - val_loss: 1.5580 - val_mae: 0.9616 - val_mse: 1.4889\n",
            "Epoch 38/150\n",
            "1886/1886 [==============================] - 67s 36ms/step - loss: 0.1633 - mae: 0.2260 - mse: 0.0974 - val_loss: 1.5562 - val_mae: 0.9598 - val_mse: 1.4874\n",
            "Epoch 39/150\n",
            "1886/1886 [==============================] - 60s 32ms/step - loss: 0.1632 - mae: 0.2253 - mse: 0.0976 - val_loss: 1.5577 - val_mae: 0.9595 - val_mse: 1.4891\n",
            "Epoch 40/150\n",
            "1886/1886 [==============================] - 67s 35ms/step - loss: 0.1606 - mae: 0.2229 - mse: 0.0951 - val_loss: 1.5552 - val_mae: 0.9574 - val_mse: 1.4868\n",
            "Epoch 41/150\n",
            "1886/1886 [==============================] - 70s 37ms/step - loss: 0.1605 - mae: 0.2218 - mse: 0.0952 - val_loss: 1.5549 - val_mae: 0.9565 - val_mse: 1.4868\n",
            "Epoch 42/150\n",
            "1886/1886 [==============================] - 60s 32ms/step - loss: 0.1586 - mae: 0.2200 - mse: 0.0935 - val_loss: 1.5551 - val_mae: 0.9557 - val_mse: 1.4873\n",
            "Epoch 43/150\n",
            "1886/1886 [==============================] - 67s 35ms/step - loss: 0.1571 - mae: 0.2188 - mse: 0.0923 - val_loss: 1.5527 - val_mae: 0.9541 - val_mse: 1.4850\n",
            "Epoch 44/150\n",
            "1886/1886 [==============================] - 60s 32ms/step - loss: 0.1560 - mae: 0.2169 - mse: 0.0914 - val_loss: 1.5558 - val_mae: 0.9541 - val_mse: 1.4884\n",
            "Epoch 45/150\n",
            "1886/1886 [==============================] - 60s 32ms/step - loss: 0.1552 - mae: 0.2160 - mse: 0.0906 - val_loss: 1.5543 - val_mae: 0.9528 - val_mse: 1.4869\n"
          ]
        }
      ]
    },
    {
      "cell_type": "code",
      "metadata": {
        "id": "S08yIwTEgdHj",
        "colab": {
          "base_uri": "https://localhost:8080/",
          "height": 487
        },
        "outputId": "a271234e-7af2-488a-c939-984191f3f6e4"
      },
      "source": [
        "#迭代图像\n",
        "loss = history.history['loss']\n",
        "val_loss = history.history['val_loss']\n",
        "epochs_range = range(len(loss))\n",
        "plt.plot(epochs_range, loss, label='Train Loss')\n",
        "plt.plot(epochs_range, val_loss, label='Val Loss')\n",
        "plt.legend(loc='upper right')\n",
        "plt.title('Train and Val Loss')\n",
        "plt.show()\n",
        "# 加载最好的训练结果\n",
        "keras_model.load_weights(model_name)\n",
        "y_pred = keras_model.predict(X_test_array)\n",
        "mae = mean_absolute_error(y_test_keras, y_pred)\n",
        "rmse = np.sqrt(mean_squared_error(y_test_keras, y_pred))\n",
        "print('mae,rmse:',mae,rmse)"
      ],
      "execution_count": null,
      "outputs": [
        {
          "output_type": "display_data",
          "data": {
            "text/plain": [
              "<Figure size 640x480 with 1 Axes>"
            ],
            "image/png": "[encoded data removed]"
          },
          "metadata": {}
        },
        {
          "output_type": "stream",
          "name": "stdout",
          "text": [
            "943/943 [==============================] - 1s 1ms/step\n",
            "mae,rmse: 0.9540639224167328 1.2186206311359007\n"
          ]
        }
      ]
    },
    {
      "cell_type": "markdown",
      "source": [
        "# NeuMF Model"
      ],
      "metadata": {
        "id": "ItxgSMHI8_6c"
      }
    },
    {
      "cell_type": "code",
      "source": [
        "import tensorflow as tf\n",
        "from keras.layers import Add, Activation, Lambda, Concatenate, Dense, BatchNormalization, Dropout\n",
        "from keras.models import Model\n",
        "from keras.layers import Input, Reshape, Dot\n",
        "from keras.layers import Embedding\n",
        "from keras.optimizers import Adam\n",
        "from keras.regularizers import l2\n",
        "\n",
        "class EmbeddingLayer:\n",
        "    def __init__(self, n_items, n_factors):\n",
        "        self.n_items = n_items\n",
        "        self.n_factors = n_factors\n",
        "\n",
        "    def __call__(self, x):\n",
        "        x = Embedding(self.n_items, self.n_factors, embeddings_initializer='he_normal', embeddings_regularizer=l2(1e-6))(x)\n",
        "        x = Reshape((self.n_factors,))(x)\n",
        "\n",
        "        return x\n",
        "\n",
        "def NeuMF(n_users, n_rests, n_factors, min_rating, max_rating):\n",
        "    user = Input(shape=(1,))\n",
        "    u = EmbeddingLayer(n_users, n_factors)(user)\n",
        "\n",
        "    restaurant = Input(shape=(1,))\n",
        "    m = EmbeddingLayer(n_rests, n_factors)(restaurant)\n",
        "\n",
        "    # MF\n",
        "    mf = Dot(axes=1)([u, m])\n",
        "\n",
        "    # MLP\n",
        "    mlp = Concatenate()([u, m])\n",
        "    mlp = Dense(16, activation='relu')(mlp)\n",
        "    mlp = BatchNormalization()(mlp)\n",
        "    mlp = Dropout(0.2)(mlp)\n",
        "    mlp = Dense(8, activation='relu')(mlp)\n",
        "    mlp = BatchNormalization()(mlp)\n",
        "    mlp = Dropout(0.2)(mlp)\n",
        "\n",
        "    # Combine MF and MLP components\n",
        "    x = Concatenate()([mf, mlp])\n",
        "    x = Dense(8, activation='relu')(x)\n",
        "    x = Dense(1)(x)\n",
        "    x = Activation('sigmoid')(x)\n",
        "    x = Lambda(lambda x: x * (max_rating - min_rating) + min_rating)(x)\n",
        "\n",
        "    model = Model(inputs=[user, restaurant], outputs=x)\n",
        "    opt = Adam(lr=0.0001)\n",
        "    model.compile(loss='mean_squared_error', optimizer=opt, metrics=['mae', 'mse'])\n",
        "\n",
        "    return model"
      ],
      "metadata": {
        "id": "VNE_wcE1gnRu"
      },
      "execution_count": 61,
      "outputs": []
    },
    {
      "cell_type": "code",
      "source": [
        "from sklearn.metrics import mean_absolute_error\n",
        "from sklearn.metrics import mean_squared_error\n",
        "from keras.callbacks import ModelCheckpoint, EarlyStopping\n",
        "\n",
        "#保存最好的模型\n",
        "model_name='best_model.h5'\n",
        "es = EarlyStopping(monitor='val_loss', patience=3)\n",
        "cp = ModelCheckpoint(filepath=model_name, monitor='val_loss', save_best_only=True)\n",
        "keras_model = NeuMF(int(n_users)+1, int(n_rests)+1, n_factors, min_rating, max_rating)\n",
        "keras_model.summary()\n",
        "history = keras_model.fit(x=X_train_array, y=y_train_keras, batch_size=64,\\\n",
        "      epochs=150, verbose=1, callbacks=[es, cp], validation_data=(X_test_array, y_test_keras))\n"
      ],
      "metadata": {
        "colab": {
          "base_uri": "https://localhost:8080/"
        },
        "id": "fPXHFMVPoDWv",
        "outputId": "6b5960c0-3fb8-4c15-adbf-ea9c29caa073"
      },
      "execution_count": 62,
      "outputs": [
        {
          "output_type": "stream",
          "name": "stderr",
          "text": [
            "WARNING:absl:`lr` is deprecated in Keras optimizer, please use `learning_rate` or use the legacy optimizer, e.g.,tf.keras.optimizers.legacy.Adam.\n"
          ]
        },
        {
          "output_type": "stream",
          "name": "stdout",
          "text": [
            "Model: \"model_17\"\n",
            "__________________________________________________________________________________________________\n",
            " Layer (type)                Output Shape                 Param #   Connected to                  \n",
            "==================================================================================================\n",
            " input_35 (InputLayer)       [(None, 1)]                  0         []                            \n",
            "                                                                                                  \n",
            " input_36 (InputLayer)       [(None, 1)]                  0         []                            \n",
            "                                                                                                  \n",
            " embedding_50 (Embedding)    (None, 1, 1000)              7790200   ['input_35[0][0]']            \n",
            "                                                          0                                       \n",
            "                                                                                                  \n",
            " embedding_51 (Embedding)    (None, 1, 1000)              2705000   ['input_36[0][0]']            \n",
            "                                                                                                  \n",
            " reshape_42 (Reshape)        (None, 1000)                 0         ['embedding_50[0][0]']        \n",
            "                                                                                                  \n",
            " reshape_43 (Reshape)        (None, 1000)                 0         ['embedding_51[0][0]']        \n",
            "                                                                                                  \n",
            " concatenate_30 (Concatenat  (None, 2000)                 0         ['reshape_42[0][0]',          \n",
            " e)                                                                  'reshape_43[0][0]']          \n",
            "                                                                                                  \n",
            " dense_67 (Dense)            (None, 16)                   32016     ['concatenate_30[0][0]']      \n",
            "                                                                                                  \n",
            " batch_normalization_5 (Bat  (None, 16)                   64        ['dense_67[0][0]']            \n",
            " chNormalization)                                                                                 \n",
            "                                                                                                  \n",
            " dropout_9 (Dropout)         (None, 16)                   0         ['batch_normalization_5[0][0]'\n",
            "                                                                    ]                             \n",
            "                                                                                                  \n",
            " dense_68 (Dense)            (None, 8)                    136       ['dropout_9[0][0]']           \n",
            "                                                                                                  \n",
            " batch_normalization_6 (Bat  (None, 8)                    32        ['dense_68[0][0]']            \n",
            " chNormalization)                                                                                 \n",
            "                                                                                                  \n",
            " dot_13 (Dot)                (None, 1)                    0         ['reshape_42[0][0]',          \n",
            "                                                                     'reshape_43[0][0]']          \n",
            "                                                                                                  \n",
            " dropout_10 (Dropout)        (None, 8)                    0         ['batch_normalization_6[0][0]'\n",
            "                                                                    ]                             \n",
            "                                                                                                  \n",
            " concatenate_31 (Concatenat  (None, 9)                    0         ['dot_13[0][0]',              \n",
            " e)                                                                  'dropout_10[0][0]']          \n",
            "                                                                                                  \n",
            " dense_69 (Dense)            (None, 8)                    80        ['concatenate_31[0][0]']      \n",
            "                                                                                                  \n",
            " dense_70 (Dense)            (None, 1)                    9         ['dense_69[0][0]']            \n",
            "                                                                                                  \n",
            " activation_13 (Activation)  (None, 1)                    0         ['dense_70[0][0]']            \n",
            "                                                                                                  \n",
            " lambda_13 (Lambda)          (None, 1)                    0         ['activation_13[0][0]']       \n",
            "                                                                                                  \n",
            "==================================================================================================\n",
            "Total params: 80639337 (307.61 MB)\n",
            "Trainable params: 80639289 (307.61 MB)\n",
            "Non-trainable params: 48 (192.00 Byte)\n",
            "__________________________________________________________________________________________________\n",
            "Epoch 1/150\n",
            "1885/1886 [============================>.] - ETA: 0s - loss: 1.6815 - mae: 1.0507 - mse: 1.6651"
          ]
        },
        {
          "output_type": "stream",
          "name": "stderr",
          "text": [
            "/usr/local/lib/python3.10/dist-packages/keras/src/engine/training.py:3103: UserWarning: You are saving your model as an HDF5 file via `model.save()`. This file format is considered legacy. We recommend using instead the native Keras format, e.g. `model.save('my_model.keras')`.\n",
            "  saving_api.save_model(\n"
          ]
        },
        {
          "output_type": "stream",
          "name": "stdout",
          "text": [
            "\b\b\b\b\b\b\b\b\b\b\b\b\b\b\b\b\b\b\b\b\b\b\b\b\b\b\b\b\b\b\b\b\b\b\b\b\b\b\b\b\b\b\b\b\b\b\b\b\b\b\b\b\b\b\b\b\b\b\b\b\b\b\b\b\b\b\b\b\b\b\b\b\b\b\b\b\b\b\b\b\b\b\b\b\b\b\b\b\b\b\b\b\b\b\b\r1886/1886 [==============================] - 71s 36ms/step - loss: 1.6818 - mae: 1.0508 - mse: 1.6653 - val_loss: 1.5630 - val_mae: 0.9910 - val_mse: 1.5274\n",
            "Epoch 2/150\n",
            "1886/1886 [==============================] - 64s 34ms/step - loss: 1.0008 - mae: 0.7311 - mse: 0.9455 - val_loss: 1.7656 - val_mae: 1.0266 - val_mse: 1.6883\n",
            "Epoch 3/150\n",
            "1886/1886 [==============================] - 63s 34ms/step - loss: 0.5750 - mae: 0.5176 - mse: 0.4947 - val_loss: 1.6471 - val_mae: 0.9774 - val_mse: 1.5609\n",
            "Epoch 4/150\n",
            "1886/1886 [==============================] - 63s 34ms/step - loss: 0.3090 - mae: 0.3449 - mse: 0.2242 - val_loss: 1.6603 - val_mae: 0.9986 - val_mse: 1.5748\n"
          ]
        }
      ]
    },
    {
      "cell_type": "code",
      "source": [
        "#迭代图像\n",
        "loss = history.history['loss']\n",
        "val_loss = history.history['val_loss']\n",
        "epochs_range = range(len(loss))\n",
        "plt.plot(epochs_range, loss, label='Train Loss')\n",
        "plt.plot(epochs_range, val_loss, label='Val Loss')\n",
        "plt.legend(loc='upper right')\n",
        "plt.title('Train and Val Loss')\n",
        "plt.show()\n",
        "# 加载最好的训练结果\n",
        "keras_model.load_weights(model_name)\n",
        "y_pred = keras_model.predict(X_test_array)\n",
        "mae = mean_absolute_error(y_test_keras, y_pred)\n",
        "rmse = np.sqrt(mean_squared_error(y_test_keras, y_pred))\n",
        "print('mae,rmse:',mae,rmse)"
      ],
      "metadata": {
        "colab": {
          "base_uri": "https://localhost:8080/",
          "height": 487
        },
        "id": "9luosUW28PDl",
        "outputId": "c8011797-0e7a-43c9-a41f-9ed1de5012f9"
      },
      "execution_count": 63,
      "outputs": [
        {
          "output_type": "display_data",
          "data": {
            "text/plain": [
              "<Figure size 640x480 with 1 Axes>"
            ],
            "image/png": "[encoded data removed]"
          },
          "metadata": {}
        },
        {
          "output_type": "stream",
          "name": "stdout",
          "text": [
            "943/943 [==============================] - 2s 2ms/step\n",
            "mae,rmse: 0.9909740253176144 1.235873070275169\n"
          ]
        }
      ]
    },
    {
      "cell_type": "code",
      "metadata": {
        "id": "kEeC1X2jPBVw",
        "colab": {
          "base_uri": "https://localhost:8080/"
        },
        "outputId": "882055cc-139f-4ba1-c1c0-70be4b5b0780"
      },
      "source": [
        "!pip install tensorflow-addons"
      ],
      "execution_count": 13,
      "outputs": [
        {
          "output_type": "stream",
          "name": "stdout",
          "text": [
            "Collecting tensorflow-addons\n",
            "  Downloading tensorflow_addons-0.23.0-cp310-cp310-manylinux_2_17_x86_64.manylinux2014_x86_64.whl (611 kB)\n",
            "\u001b[?25l     \u001b[90m━━━━━━━━━━━━━━━━━━━━━━━━━━━━━━━━━━━━━━━━\u001b[0m \u001b[32m0.0/611.8 kB\u001b[0m \u001b[31m?\u001b[0m eta \u001b[36m-:--:--\u001b[0m\r\u001b[2K     \u001b[91m━━━━━━━━━━━━━━━\u001b[0m\u001b[90m╺\u001b[0m\u001b[90m━━━━━━━━━━━━━━━━━━━━━━━━\u001b[0m \u001b[32m235.5/611.8 kB\u001b[0m \u001b[31m6.9 MB/s\u001b[0m eta \u001b[36m0:00:01\u001b[0m\r\u001b[2K     \u001b[90m━━━━━━━━━━━━━━━━━━━━━━━━━━━━━━━━━━━━━━━━\u001b[0m \u001b[32m611.8/611.8 kB\u001b[0m \u001b[31m9.1 MB/s\u001b[0m eta \u001b[36m0:00:00\u001b[0m\n",
            "\u001b[?25hRequirement already satisfied: packaging in /usr/local/lib/python3.10/dist-packages (from tensorflow-addons) (24.0)\n",
            "Collecting typeguard<3.0.0,>=2.7 (from tensorflow-addons)\n",
            "  Downloading typeguard-2.13.3-py3-none-any.whl (17 kB)\n",
            "Installing collected packages: typeguard, tensorflow-addons\n",
            "Successfully installed tensorflow-addons-0.23.0 typeguard-2.13.3\n"
          ]
        }
      ]
    },
    {
      "cell_type": "markdown",
      "source": [
        "# DeepFM Model"
      ],
      "metadata": {
        "id": "4JEys30wga3i"
      }
    },
    {
      "cell_type": "code",
      "source": [
        "import tensorflow as tf\n",
        "from tensorflow import keras\n",
        "from tensorflow.keras.models import Model\n",
        "from tensorflow.keras.layers import Input, Dense, Concatenate, Embedding, Flatten, Dropout\n",
        "from tensorflow.keras.optimizers import Nadam\n",
        "\n",
        "def DeepFM(n_users, n_rests, n_factors, min_rating, max_rating):\n",
        "    # 用户和商品的输入层\n",
        "    user = Input(shape=(1,), name='user_input')\n",
        "    restaurant = Input(shape=(1,), name='restaurant_input')\n",
        "\n",
        "    # 用户和商品的嵌入层\n",
        "    user_embedding = Embedding(n_users, n_factors, embeddings_initializer='he_normal')(user)\n",
        "    restaurant_embedding = Embedding(n_rests, n_factors, embeddings_initializer='he_normal')(restaurant)\n",
        "\n",
        "    # FM 部分\n",
        "    fm_input = Concatenate(axis=1)([user_embedding, restaurant_embedding])\n",
        "    fm_output = tf.reduce_sum(fm_input, axis=1)\n",
        "\n",
        "    # DNN 部分\n",
        "    dnn_input = Flatten()(fm_input)\n",
        "    dnn_output = Dense(16, activation='relu')(dnn_input)\n",
        "    dnn_output = Dropout(0.3)(dnn_output)\n",
        "    dnn_output = Dense(1, activation=None)(dnn_output)\n",
        "    dnn_output = Dropout(0.3)(dnn_output)\n",
        "\n",
        "    # 输出层\n",
        "    output = tf.nn.sigmoid(fm_output + dnn_output)\n",
        "    output = Dense(1, activation='sigmoid')(output)\n",
        "    output = output * (max_rating - min_rating) + min_rating\n",
        "\n",
        "    # 创建模型\n",
        "    model = Model(inputs=[user, restaurant], outputs=output)\n",
        "\n",
        "    # 编译模型\n",
        "    model.compile(optimizer='Nadam', loss='mean_squared_error', metrics=['mae', 'mse'])\n",
        "\n",
        "    return model"
      ],
      "metadata": {
        "id": "byDjW6LjlG7O"
      },
      "execution_count": 27,
      "outputs": []
    },
    {
      "cell_type": "code",
      "source": [
        "from sklearn.metrics import mean_absolute_error\n",
        "from sklearn.metrics import mean_squared_error\n",
        "from keras.callbacks import ModelCheckpoint, EarlyStopping, LearningRateScheduler\n",
        "\n",
        "#保存最好的模型\n",
        "model_name='best_model.h5'\n",
        "es = EarlyStopping(monitor='val_loss', patience=3)\n",
        "cp = ModelCheckpoint(filepath=model_name, monitor='val_loss', save_best_only=True)\n",
        "keras_model = DeepFM(int(n_users)+1, int(n_rests)+1, n_factors, min_rating, max_rating)\n",
        "keras_model.summary()\n",
        "history = keras_model.fit(x=X_train_array, y=y_train_keras, batch_size=64,\\\n",
        "      epochs=150, verbose=1, callbacks=[es, cp], validation_data=(X_test_array, y_test_keras))\n"
      ],
      "metadata": {
        "colab": {
          "base_uri": "https://localhost:8080/"
        },
        "id": "rEpZTgPhkTkX",
        "outputId": "020dc920-7d46-4321-d9a4-9c766b05f7e1"
      },
      "execution_count": 28,
      "outputs": [
        {
          "output_type": "stream",
          "name": "stdout",
          "text": [
            "Model: \"model_5\"\n",
            "__________________________________________________________________________________________________\n",
            " Layer (type)                Output Shape                 Param #   Connected to                  \n",
            "==================================================================================================\n",
            " user_input (InputLayer)     [(None, 1)]                  0         []                            \n",
            "                                                                                                  \n",
            " restaurant_input (InputLay  [(None, 1)]                  0         []                            \n",
            " er)                                                                                              \n",
            "                                                                                                  \n",
            " embedding_14 (Embedding)    (None, 1, 1000)              7790200   ['user_input[0][0]']          \n",
            "                                                          0                                       \n",
            "                                                                                                  \n",
            " embedding_15 (Embedding)    (None, 1, 1000)              2705000   ['restaurant_input[0][0]']    \n",
            "                                                                                                  \n",
            " concatenate_8 (Concatenate  (None, 2, 1000)              0         ['embedding_14[0][0]',        \n",
            " )                                                                   'embedding_15[0][0]']        \n",
            "                                                                                                  \n",
            " flatten_7 (Flatten)         (None, 2000)                 0         ['concatenate_8[0][0]']       \n",
            "                                                                                                  \n",
            " dense_17 (Dense)            (None, 16)                   32016     ['flatten_7[0][0]']           \n",
            "                                                                                                  \n",
            " dropout_7 (Dropout)         (None, 16)                   0         ['dense_17[0][0]']            \n",
            "                                                                                                  \n",
            " dense_18 (Dense)            (None, 1)                    17        ['dropout_7[0][0]']           \n",
            "                                                                                                  \n",
            " tf.math.reduce_sum_7 (TFOp  (None, 1000)                 0         ['concatenate_8[0][0]']       \n",
            " Lambda)                                                                                          \n",
            "                                                                                                  \n",
            " dropout_8 (Dropout)         (None, 1)                    0         ['dense_18[0][0]']            \n",
            "                                                                                                  \n",
            " tf.__operators__.add_13 (T  (None, 1000)                 0         ['tf.math.reduce_sum_7[0][0]',\n",
            " FOpLambda)                                                          'dropout_8[0][0]']           \n",
            "                                                                                                  \n",
            " tf.math.sigmoid_5 (TFOpLam  (None, 1000)                 0         ['tf.__operators__.add_13[0][0\n",
            " bda)                                                               ]']                           \n",
            "                                                                                                  \n",
            " dense_19 (Dense)            (None, 1)                    1001      ['tf.math.sigmoid_5[0][0]']   \n",
            "                                                                                                  \n",
            " tf.math.multiply_5 (TFOpLa  (None, 1)                    0         ['dense_19[0][0]']            \n",
            " mbda)                                                                                            \n",
            "                                                                                                  \n",
            " tf.__operators__.add_14 (T  (None, 1)                    0         ['tf.math.multiply_5[0][0]']  \n",
            " FOpLambda)                                                                                       \n",
            "                                                                                                  \n",
            "==================================================================================================\n",
            "Total params: 80640034 (307.62 MB)\n",
            "Trainable params: 80640034 (307.62 MB)\n",
            "Non-trainable params: 0 (0.00 Byte)\n",
            "__________________________________________________________________________________________________\n",
            "Epoch 1/150\n",
            "1886/1886 [==============================] - ETA: 0s - loss: 1.5797 - mae: 1.0148 - mse: 1.5797"
          ]
        },
        {
          "output_type": "stream",
          "name": "stderr",
          "text": [
            "/usr/local/lib/python3.10/dist-packages/keras/src/engine/training.py:3103: UserWarning: You are saving your model as an HDF5 file via `model.save()`. This file format is considered legacy. We recommend using instead the native Keras format, e.g. `model.save('my_model.keras')`.\n",
            "  saving_api.save_model(\n"
          ]
        },
        {
          "output_type": "stream",
          "name": "stdout",
          "text": [
            "\b\b\b\b\b\b\b\b\b\b\b\b\b\b\b\b\b\b\b\b\b\b\b\b\b\b\b\b\b\b\b\b\b\b\b\b\b\b\b\b\b\b\b\b\b\b\b\b\b\b\b\b\b\b\b\b\b\b\b\b\b\b\b\b\b\b\b\b\b\b\b\b\b\b\b\b\b\b\b\b\b\b\b\b\b\b\b\b\b\b\b\b\b\b\b\r1886/1886 [==============================] - 51s 26ms/step - loss: 1.5797 - mae: 1.0148 - mse: 1.5797 - val_loss: 1.4969 - val_mae: 0.9930 - val_mse: 1.4969\n",
            "Epoch 2/150\n",
            "1886/1886 [==============================] - 44s 24ms/step - loss: 1.1048 - mae: 0.8235 - mse: 1.1048 - val_loss: 1.5671 - val_mae: 0.9818 - val_mse: 1.5671\n",
            "Epoch 3/150\n",
            "1886/1886 [==============================] - 44s 23ms/step - loss: 0.8133 - mae: 0.6812 - mse: 0.8133 - val_loss: 1.6238 - val_mae: 0.9847 - val_mse: 1.6238\n",
            "Epoch 4/150\n",
            "1886/1886 [==============================] - 44s 23ms/step - loss: 0.6795 - mae: 0.5972 - mse: 0.6795 - val_loss: 1.6638 - val_mae: 0.9667 - val_mse: 1.6638\n"
          ]
        }
      ]
    },
    {
      "cell_type": "code",
      "source": [
        "#迭代图像\n",
        "loss = history.history['loss']\n",
        "val_loss = history.history['val_loss']\n",
        "epochs_range = range(len(loss))\n",
        "plt.plot(epochs_range, loss, label='Train Loss')\n",
        "plt.plot(epochs_range, val_loss, label='Val Loss')\n",
        "plt.legend(loc='upper right')\n",
        "plt.title('Train and Val Loss')\n",
        "plt.show()\n",
        "# 加载最好的训练结果\n",
        "keras_model.load_weights(model_name)\n",
        "y_pred = keras_model.predict(X_test_array)\n",
        "mae = mean_absolute_error(y_test_keras, y_pred)\n",
        "rmse = np.sqrt(mean_squared_error(y_test_keras, y_pred))\n",
        "print('mae,rmse:',mae,rmse)"
      ],
      "metadata": {
        "colab": {
          "base_uri": "https://localhost:8080/",
          "height": 487
        },
        "id": "i9Av8oYX_Bml",
        "outputId": "330fd964-d077-4591-8492-6cbe7585e804"
      },
      "execution_count": 30,
      "outputs": [
        {
          "output_type": "display_data",
          "data": {
            "text/plain": [
              "<Figure size 640x480 with 1 Axes>"
            ],
            "image/png": "[encoded data removed]"
          },
          "metadata": {}
        },
        {
          "output_type": "stream",
          "name": "stdout",
          "text": [
            "943/943 [==============================] - 1s 1ms/step\n",
            "mae,rmse: 0.99303882341169 1.2234967223240774\n"
          ]
        }
      ]
    },
    {
      "cell_type": "markdown",
      "source": [
        "# NCF model base text"
      ],
      "metadata": {
        "id": "G-ZUrqCH4jza"
      }
    },
    {
      "cell_type": "code",
      "metadata": {
        "colab": {
          "base_uri": "https://localhost:8080/",
          "height": 141
        },
        "outputId": "52428be1-dbea-4195-d634-0dcc82bf825f",
        "id": "ml86-bz74oJ7"
      },
      "source": [
        "import pandas as pd\n",
        "import numpy as np\n",
        "import matplotlib.pyplot as plt\n",
        "\n",
        "data=pd.read_csv('rating_review_emb.csv')\n",
        "display(data.tail(2))"
      ],
      "execution_count": 5,
      "outputs": [
        {
          "output_type": "display_data",
          "data": {
            "text/plain": [
              "               0         1         2         3         4         5         6  \\\n",
              "150853  0.245519  0.124486 -0.084638 -0.093606  0.168214 -0.189911  0.193591   \n",
              "150854  0.128385  0.034232 -0.056932  0.001382  0.159788 -0.171430  0.201015   \n",
              "\n",
              "               7         8        9  ...       761       762       763  \\\n",
              "150853  0.426436 -0.009749 -0.30305  ... -0.087216  0.021021  0.066637   \n",
              "150854  0.125718  0.051098 -0.34854  ... -0.207604  0.203803  0.053064   \n",
              "\n",
              "             764       765       766       767  user_id  business_id  stars  \n",
              "150853 -0.198224  0.200206  0.478215  0.336229    68981         2703    1.0  \n",
              "150854 -0.275782 -0.149492  0.370956  0.102573    26444         2704    5.0  \n",
              "\n",
              "[2 rows x 771 columns]"
            ],
            "text/html": [
              "\n",
              "  <div id=\"df-a43cf6a7-e249-4f4d-95a7-80fa67c4c9bf\" class=\"colab-df-container\">\n",
              "    <div>\n",
              "<style scoped>\n",
              "    .dataframe tbody tr th:only-of-type {\n",
              "        vertical-align: middle;\n",
              "    }\n",
              "\n",
              "    .dataframe tbody tr th {\n",
              "        vertical-align: top;\n",
              "    }\n",
              "\n",
              "    .dataframe thead th {\n",
              "        text-align: right;\n",
              "    }\n",
              "</style>\n",
              "<table border=\"1\" class=\"dataframe\">\n",
              "  <thead>\n",
              "    <tr style=\"text-align: right;\">\n",
              "      <th></th>\n",
              "      <th>0</th>\n",
              "      <th>1</th>\n",
              "      <th>2</th>\n",
              "      <th>3</th>\n",
              "      <th>4</th>\n",
              "      <th>5</th>\n",
              "      <th>6</th>\n",
              "      <th>7</th>\n",
              "      <th>8</th>\n",
              "      <th>9</th>\n",
              "      <th>...</th>\n",
              "      <th>761</th>\n",
              "      <th>762</th>\n",
              "      <th>763</th>\n",
              "      <th>764</th>\n",
              "      <th>765</th>\n",
              "      <th>766</th>\n",
              "      <th>767</th>\n",
              "      <th>user_id</th>\n",
              "      <th>business_id</th>\n",
              "      <th>stars</th>\n",
              "    </tr>\n",
              "  </thead>\n",
              "  <tbody>\n",
              "    <tr>\n",
              "      <th>150853</th>\n",
              "      <td>0.245519</td>\n",
              "      <td>0.124486</td>\n",
              "      <td>-0.084638</td>\n",
              "      <td>-0.093606</td>\n",
              "      <td>0.168214</td>\n",
              "      <td>-0.189911</td>\n",
              "      <td>0.193591</td>\n",
              "      <td>0.426436</td>\n",
              "      <td>-0.009749</td>\n",
              "      <td>-0.30305</td>\n",
              "      <td>...</td>\n",
              "      <td>-0.087216</td>\n",
              "      <td>0.021021</td>\n",
              "      <td>0.066637</td>\n",
              "      <td>-0.198224</td>\n",
              "      <td>0.200206</td>\n",
              "      <td>0.478215</td>\n",
              "      <td>0.336229</td>\n",
              "      <td>68981</td>\n",
              "      <td>2703</td>\n",
              "      <td>1.0</td>\n",
              "    </tr>\n",
              "    <tr>\n",
              "      <th>150854</th>\n",
              "      <td>0.128385</td>\n",
              "      <td>0.034232</td>\n",
              "      <td>-0.056932</td>\n",
              "      <td>0.001382</td>\n",
              "      <td>0.159788</td>\n",
              "      <td>-0.171430</td>\n",
              "      <td>0.201015</td>\n",
              "      <td>0.125718</td>\n",
              "      <td>0.051098</td>\n",
              "      <td>-0.34854</td>\n",
              "      <td>...</td>\n",
              "      <td>-0.207604</td>\n",
              "      <td>0.203803</td>\n",
              "      <td>0.053064</td>\n",
              "      <td>-0.275782</td>\n",
              "      <td>-0.149492</td>\n",
              "      <td>0.370956</td>\n",
              "      <td>0.102573</td>\n",
              "      <td>26444</td>\n",
              "      <td>2704</td>\n",
              "      <td>5.0</td>\n",
              "    </tr>\n",
              "  </tbody>\n",
              "</table>\n",
              "<p>2 rows × 771 columns</p>\n",
              "</div>\n",
              "    <div class=\"colab-df-buttons\">\n",
              "\n",
              "  <div class=\"colab-df-container\">\n",
              "    <button class=\"colab-df-convert\" onclick=\"convertToInteractive('df-a43cf6a7-e249-4f4d-95a7-80fa67c4c9bf')\"\n",
              "            title=\"Convert this dataframe to an interactive table.\"\n",
              "            style=\"display:none;\">\n",
              "\n",
              "  <svg xmlns=\"http://www.w3.org/2000/svg\" height=\"24px\" viewBox=\"0 -960 960 960\">\n",
              "    <path d=\"M120-120v-720h720v720H120Zm60-500h600v-160H180v160Zm220 220h160v-160H400v160Zm0 220h160v-160H400v160ZM180-400h160v-160H180v160Zm440 0h160v-160H620v160ZM180-180h160v-160H180v160Zm440 0h160v-160H620v160Z\"/>\n",
              "  </svg>\n",
              "    </button>\n",
              "\n",
              "  <style>\n",
              "    .colab-df-container {\n",
              "      display:flex;\n",
              "      gap: 12px;\n",
              "    }\n",
              "\n",
              "    .colab-df-convert {\n",
              "      background-color: #E8F0FE;\n",
              "      border: none;\n",
              "      border-radius: 50%;\n",
              "      cursor: pointer;\n",
              "      display: none;\n",
              "      fill: #1967D2;\n",
              "      height: 32px;\n",
              "      padding: 0 0 0 0;\n",
              "      width: 32px;\n",
              "    }\n",
              "\n",
              "    .colab-df-convert:hover {\n",
              "      background-color: #E2EBFA;\n",
              "      box-shadow: 0px 1px 2px rgba(60, 64, 67, 0.3), 0px 1px 3px 1px rgba(60, 64, 67, 0.15);\n",
              "      fill: #174EA6;\n",
              "    }\n",
              "\n",
              "    .colab-df-buttons div {\n",
              "      margin-bottom: 4px;\n",
              "    }\n",
              "\n",
              "    [theme=dark] .colab-df-convert {\n",
              "      background-color: #3B4455;\n",
              "      fill: #D2E3FC;\n",
              "    }\n",
              "\n",
              "    [theme=dark] .colab-df-convert:hover {\n",
              "      background-color: #434B5C;\n",
              "      box-shadow: 0px 1px 3px 1px rgba(0, 0, 0, 0.15);\n",
              "      filter: drop-shadow(0px 1px 2px rgba(0, 0, 0, 0.3));\n",
              "      fill: #FFFFFF;\n",
              "    }\n",
              "  </style>\n",
              "\n",
              "    <script>\n",
              "      const buttonEl =\n",
              "        document.querySelector('#df-a43cf6a7-e249-4f4d-95a7-80fa67c4c9bf button.colab-df-convert');\n",
              "      buttonEl.style.display =\n",
              "        google.colab.kernel.accessAllowed ? 'block' : 'none';\n",
              "\n",
              "      async function convertToInteractive(key) {\n",
              "        const element = document.querySelector('#df-a43cf6a7-e249-4f4d-95a7-80fa67c4c9bf');\n",
              "        const dataTable =\n",
              "          await google.colab.kernel.invokeFunction('convertToInteractive',\n",
              "                                                    [key], {});\n",
              "        if (!dataTable) return;\n",
              "\n",
              "        const docLinkHtml = 'Like what you see? Visit the ' +\n",
              "          '<a target=\"_blank\" href=https://colab.research.google.com/notebooks/data_table.ipynb>data table notebook</a>'\n",
              "          + ' to learn more about interactive tables.';\n",
              "        element.innerHTML = '';\n",
              "        dataTable['output_type'] = 'display_data';\n",
              "        await google.colab.output.renderOutput(dataTable, element);\n",
              "        const docLink = document.createElement('div');\n",
              "        docLink.innerHTML = docLinkHtml;\n",
              "        element.appendChild(docLink);\n",
              "      }\n",
              "    </script>\n",
              "  </div>\n",
              "\n",
              "\n",
              "<div id=\"df-76c1f217-8149-446b-9d66-2acaf347261b\">\n",
              "  <button class=\"colab-df-quickchart\" onclick=\"quickchart('df-76c1f217-8149-446b-9d66-2acaf347261b')\"\n",
              "            title=\"Suggest charts\"\n",
              "            style=\"display:none;\">\n",
              "\n",
              "<svg xmlns=\"http://www.w3.org/2000/svg\" height=\"24px\"viewBox=\"0 0 24 24\"\n",
              "     width=\"24px\">\n",
              "    <g>\n",
              "        <path d=\"M19 3H5c-1.1 0-2 .9-2 2v14c0 1.1.9 2 2 2h14c1.1 0 2-.9 2-2V5c0-1.1-.9-2-2-2zM9 17H7v-7h2v7zm4 0h-2V7h2v10zm4 0h-2v-4h2v4z\"/>\n",
              "    </g>\n",
              "</svg>\n",
              "  </button>\n",
              "\n",
              "<style>\n",
              "  .colab-df-quickchart {\n",
              "      --bg-color: #E8F0FE;\n",
              "      --fill-color: #1967D2;\n",
              "      --hover-bg-color: #E2EBFA;\n",
              "      --hover-fill-color: #174EA6;\n",
              "      --disabled-fill-color: #AAA;\n",
              "      --disabled-bg-color: #DDD;\n",
              "  }\n",
              "\n",
              "  [theme=dark] .colab-df-quickchart {\n",
              "      --bg-color: #3B4455;\n",
              "      --fill-color: #D2E3FC;\n",
              "      --hover-bg-color: #434B5C;\n",
              "      --hover-fill-color: #FFFFFF;\n",
              "      --disabled-bg-color: #3B4455;\n",
              "      --disabled-fill-color: #666;\n",
              "  }\n",
              "\n",
              "  .colab-df-quickchart {\n",
              "    background-color: var(--bg-color);\n",
              "    border: none;\n",
              "    border-radius: 50%;\n",
              "    cursor: pointer;\n",
              "    display: none;\n",
              "    fill: var(--fill-color);\n",
              "    height: 32px;\n",
              "    padding: 0;\n",
              "    width: 32px;\n",
              "  }\n",
              "\n",
              "  .colab-df-quickchart:hover {\n",
              "    background-color: var(--hover-bg-color);\n",
              "    box-shadow: 0 1px 2px rgba(60, 64, 67, 0.3), 0 1px 3px 1px rgba(60, 64, 67, 0.15);\n",
              "    fill: var(--button-hover-fill-color);\n",
              "  }\n",
              "\n",
              "  .colab-df-quickchart-complete:disabled,\n",
              "  .colab-df-quickchart-complete:disabled:hover {\n",
              "    background-color: var(--disabled-bg-color);\n",
              "    fill: var(--disabled-fill-color);\n",
              "    box-shadow: none;\n",
              "  }\n",
              "\n",
              "  .colab-df-spinner {\n",
              "    border: 2px solid var(--fill-color);\n",
              "    border-color: transparent;\n",
              "    border-bottom-color: var(--fill-color);\n",
              "    animation:\n",
              "      spin 1s steps(1) infinite;\n",
              "  }\n",
              "\n",
              "  @keyframes spin {\n",
              "    0% {\n",
              "      border-color: transparent;\n",
              "      border-bottom-color: var(--fill-color);\n",
              "      border-left-color: var(--fill-color);\n",
              "    }\n",
              "    20% {\n",
              "      border-color: transparent;\n",
              "      border-left-color: var(--fill-color);\n",
              "      border-top-color: var(--fill-color);\n",
              "    }\n",
              "    30% {\n",
              "      border-color: transparent;\n",
              "      border-left-color: var(--fill-color);\n",
              "      border-top-color: var(--fill-color);\n",
              "      border-right-color: var(--fill-color);\n",
              "    }\n",
              "    40% {\n",
              "      border-color: transparent;\n",
              "      border-right-color: var(--fill-color);\n",
              "      border-top-color: var(--fill-color);\n",
              "    }\n",
              "    60% {\n",
              "      border-color: transparent;\n",
              "      border-right-color: var(--fill-color);\n",
              "    }\n",
              "    80% {\n",
              "      border-color: transparent;\n",
              "      border-right-color: var(--fill-color);\n",
              "      border-bottom-color: var(--fill-color);\n",
              "    }\n",
              "    90% {\n",
              "      border-color: transparent;\n",
              "      border-bottom-color: var(--fill-color);\n",
              "    }\n",
              "  }\n",
              "</style>\n",
              "\n",
              "  <script>\n",
              "    async function quickchart(key) {\n",
              "      const quickchartButtonEl =\n",
              "        document.querySelector('#' + key + ' button');\n",
              "      quickchartButtonEl.disabled = true;  // To prevent multiple clicks.\n",
              "      quickchartButtonEl.classList.add('colab-df-spinner');\n",
              "      try {\n",
              "        const charts = await google.colab.kernel.invokeFunction(\n",
              "            'suggestCharts', [key], {});\n",
              "      } catch (error) {\n",
              "        console.error('Error during call to suggestCharts:', error);\n",
              "      }\n",
              "      quickchartButtonEl.classList.remove('colab-df-spinner');\n",
              "      quickchartButtonEl.classList.add('colab-df-quickchart-complete');\n",
              "    }\n",
              "    (() => {\n",
              "      let quickchartButtonEl =\n",
              "        document.querySelector('#df-76c1f217-8149-446b-9d66-2acaf347261b button');\n",
              "      quickchartButtonEl.style.display =\n",
              "        google.colab.kernel.accessAllowed ? 'block' : 'none';\n",
              "    })();\n",
              "  </script>\n",
              "</div>\n",
              "    </div>\n",
              "  </div>\n"
            ],
            "application/vnd.google.colaboratory.intrinsic+json": {
              "type": "dataframe"
            }
          },
          "metadata": {}
        }
      ]
    },
    {
      "cell_type": "code",
      "source": [
        "data.info()"
      ],
      "metadata": {
        "colab": {
          "base_uri": "https://localhost:8080/"
        },
        "outputId": "6bd4037e-a946-4e3f-daeb-5e2a967a70a6",
        "id": "IqDVw-hs4oJ8"
      },
      "execution_count": 6,
      "outputs": [
        {
          "output_type": "stream",
          "name": "stdout",
          "text": [
            "<class 'pandas.core.frame.DataFrame'>\n",
            "RangeIndex: 150855 entries, 0 to 150854\n",
            "Columns: 771 entries, 0 to stars\n",
            "dtypes: float64(769), int64(2)\n",
            "memory usage: 887.4 MB\n"
          ]
        }
      ]
    },
    {
      "cell_type": "code",
      "metadata": {
        "id": "LOFdN7M-4oJ8"
      },
      "source": [
        "n_users, n_rests, max_rating = data.iloc[:,-3:].max()\n",
        "min_rating = data.iloc[:,-1].min()\n",
        "n_factors = 1000"
      ],
      "execution_count": 7,
      "outputs": []
    },
    {
      "cell_type": "code",
      "source": [
        "text_embedding_dim = data.iloc[:,0:768].shape[1]"
      ],
      "metadata": {
        "id": "G6d--kDHuN2P"
      },
      "execution_count": 8,
      "outputs": []
    },
    {
      "cell_type": "code",
      "source": [
        "from sklearn.model_selection import train_test_split\n",
        "\n",
        "# 将数据集分为特征和标签\n",
        "feature_cols = ['user_id', 'business_id'] + [f'{i}' for i in range(768)]\n",
        "X = data[feature_cols].values\n",
        "y = data['stars'].values\n",
        "\n",
        "# 划分训练集和测试集\n",
        "X_train, X_test, y_train, y_test = train_test_split(X, y, test_size=0.2, random_state=42)\n",
        "X_train.shape, X_test.shape, y_train.shape, y_test.shape"
      ],
      "metadata": {
        "colab": {
          "base_uri": "https://localhost:8080/"
        },
        "id": "1kLEEMcWuppD",
        "outputId": "fc25ca34-ed04-4cf4-80f9-78c3909dbe33"
      },
      "execution_count": 9,
      "outputs": [
        {
          "output_type": "execute_result",
          "data": {
            "text/plain": [
              "((120684, 770), (30171, 770), (120684,), (30171,))"
            ]
          },
          "metadata": {},
          "execution_count": 9
        }
      ]
    },
    {
      "cell_type": "code",
      "source": [
        "# 从测试集特征矩阵中分离出用户ID、商户ID和文本嵌入向量\n",
        "\n",
        "X_train_array = [X_train[:, 0], X_train[:, 1], X_train[:, 2:770]]\n",
        "X_test_array = [X_test[:, 0], X_test[:, 1], X_test[:, 2:770]]"
      ],
      "metadata": {
        "id": "bsfmIpmYl6tV"
      },
      "execution_count": 10,
      "outputs": []
    },
    {
      "cell_type": "code",
      "source": [
        "# 从训练集特征矩阵中分离出用户ID、商户ID和文本嵌入向量\n",
        "X_train_user_ids = X_train[:, 0]\n",
        "X_train_business_ids = X_train[:, 1]\n",
        "X_train_text_embeddings = X_train[:, 2:770]\n",
        "\n",
        "# 从测试集特征矩阵中分离出用户ID、商户ID和文本嵌入向量\n",
        "X_test_user_ids = X_test[:, 0]\n",
        "X_test_business_ids = X_test[:, 1]\n",
        "X_test_text_embeddings = X_test[:, 2:770]"
      ],
      "metadata": {
        "id": "n7G5ST7bs8xT"
      },
      "execution_count": 11,
      "outputs": []
    },
    {
      "cell_type": "code",
      "source": [
        "import tensorflow as tf\n",
        "from keras.layers import Add, Activation, Lambda, Concatenate, Dense\n",
        "from keras.models import Model\n",
        "from keras.layers import Input, Reshape, Dot\n",
        "from keras.layers import Embedding\n",
        "from keras.optimizers import Adam, Nadam\n",
        "from keras.regularizers import l2\n",
        "\n",
        "class EmbeddingLayer:\n",
        "    def __init__(self, n_items, n_factors):\n",
        "        self.n_items = n_items\n",
        "        self.n_factors = n_factors\n",
        "\n",
        "    def __call__(self, x):\n",
        "        x = Embedding(self.n_items, self.n_factors, embeddings_initializer='he_normal', embeddings_regularizer=l2(1e-6))(x)\n",
        "        x = Reshape((self.n_factors,))(x)\n",
        "\n",
        "        return x\n",
        "\n",
        "def Recommender(n_users, n_rests, n_factors, min_rating, max_rating, text_embedding_dim):\n",
        "    user = Input(shape=(1,))\n",
        "    u = EmbeddingLayer(n_users, n_factors)(user)\n",
        "    ub = EmbeddingLayer(n_users, 1)(user)\n",
        "\n",
        "    restaurant = Input(shape=(1,))\n",
        "    m = EmbeddingLayer(n_rests, n_factors)(restaurant)\n",
        "    mb = EmbeddingLayer(n_rests, 1)(restaurant)\n",
        "\n",
        "    text_embedding = Input(shape=(text_embedding_dim,))\n",
        "\n",
        "    x = Concatenate()([u, text_embedding])\n",
        "    x = Dense(16, activation='relu')(x)\n",
        "    x = Dense(n_factors, activation='linear')(x)\n",
        "\n",
        "    y = Concatenate()([m, text_embedding])\n",
        "    y = Dense(16, activation='relu')(y)\n",
        "    y = Dense(n_factors, activation='linear')(y)\n",
        "\n",
        "    z = Dot(axes=1)([x, y])\n",
        "\n",
        "    z = Add()([z, ub, mb, text_embedding])\n",
        "    z = Activation('sigmoid')(z)\n",
        "    z = Lambda(lambda x: x * (max_rating - min_rating) + min_rating)(z)\n",
        "    output = Dense(1, activation='linear')(z)\n",
        "\n",
        "    model = Model(inputs=[user, restaurant, text_embedding], outputs=output)\n",
        "    opt = Nadam(lr=0.001)\n",
        "    model.compile(loss='mean_squared_error', optimizer=opt, metrics=['mae','mse'])\n",
        "\n",
        "    return model"
      ],
      "metadata": {
        "id": "qw7GqnbWr3BL"
      },
      "execution_count": 27,
      "outputs": []
    },
    {
      "cell_type": "code",
      "source": [
        "from sklearn.metrics import mean_absolute_error\n",
        "from sklearn.metrics import mean_squared_error\n",
        "from keras.callbacks import ModelCheckpoint, EarlyStopping\n",
        "\n",
        "# 保存最好的模型\n",
        "model_name = 'best_model.h5'\n",
        "es = EarlyStopping(monitor='val_loss', patience=3)\n",
        "cp = ModelCheckpoint(filepath=model_name, monitor='val_loss', save_best_only=True)\n",
        "\n",
        "# 构建模型\n",
        "keras_model = Recommender(int(n_users)+1, int(n_rests)+1, n_factors, min_rating, max_rating, text_embedding_dim)\n",
        "keras_model.summary()\n",
        "\n",
        "# 训练模型\n",
        "history = keras_model.fit([X_train_user_ids, X_train_business_ids, X_train_text_embeddings], y_train,\n",
        "                          batch_size=64, epochs=150, verbose=1,\n",
        "                          callbacks=[es, cp],\n",
        "                          validation_data=([X_test_user_ids, X_test_business_ids, X_test_text_embeddings], y_test))"
      ],
      "metadata": {
        "colab": {
          "base_uri": "https://localhost:8080/"
        },
        "id": "3Q86F6untCwi",
        "outputId": "0cfdd728-c467-4e19-cf7e-51bf5366e595"
      },
      "execution_count": 28,
      "outputs": [
        {
          "output_type": "stream",
          "name": "stderr",
          "text": [
            "WARNING:absl:`lr` is deprecated in Keras optimizer, please use `learning_rate` or use the legacy optimizer, e.g.,tf.keras.optimizers.legacy.Nadam.\n"
          ]
        },
        {
          "output_type": "stream",
          "name": "stdout",
          "text": [
            "Model: \"model_7\"\n",
            "__________________________________________________________________________________________________\n",
            " Layer (type)                Output Shape                 Param #   Connected to                  \n",
            "==================================================================================================\n",
            " input_22 (InputLayer)       [(None, 1)]                  0         []                            \n",
            "                                                                                                  \n",
            " input_23 (InputLayer)       [(None, 1)]                  0         []                            \n",
            "                                                                                                  \n",
            " embedding_28 (Embedding)    (None, 1, 1000)              7790200   ['input_22[0][0]']            \n",
            "                                                          0                                       \n",
            "                                                                                                  \n",
            " embedding_30 (Embedding)    (None, 1, 1000)              2705000   ['input_23[0][0]']            \n",
            "                                                                                                  \n",
            " reshape_28 (Reshape)        (None, 1000)                 0         ['embedding_28[0][0]']        \n",
            "                                                                                                  \n",
            " input_24 (InputLayer)       [(None, 768)]                0         []                            \n",
            "                                                                                                  \n",
            " reshape_30 (Reshape)        (None, 1000)                 0         ['embedding_30[0][0]']        \n",
            "                                                                                                  \n",
            " concatenate_14 (Concatenat  (None, 1768)                 0         ['reshape_28[0][0]',          \n",
            " e)                                                                  'input_24[0][0]']            \n",
            "                                                                                                  \n",
            " concatenate_15 (Concatenat  (None, 1768)                 0         ['reshape_30[0][0]',          \n",
            " e)                                                                  'input_24[0][0]']            \n",
            "                                                                                                  \n",
            " dense_31 (Dense)            (None, 16)                   28304     ['concatenate_14[0][0]']      \n",
            "                                                                                                  \n",
            " dense_33 (Dense)            (None, 16)                   28304     ['concatenate_15[0][0]']      \n",
            "                                                                                                  \n",
            " dense_32 (Dense)            (None, 1000)                 17000     ['dense_31[0][0]']            \n",
            "                                                                                                  \n",
            " dense_34 (Dense)            (None, 1000)                 17000     ['dense_33[0][0]']            \n",
            "                                                                                                  \n",
            " embedding_29 (Embedding)    (None, 1, 1)                 77902     ['input_22[0][0]']            \n",
            "                                                                                                  \n",
            " embedding_31 (Embedding)    (None, 1, 1)                 2705      ['input_23[0][0]']            \n",
            "                                                                                                  \n",
            " dot_7 (Dot)                 (None, 1)                    0         ['dense_32[0][0]',            \n",
            "                                                                     'dense_34[0][0]']            \n",
            "                                                                                                  \n",
            " reshape_29 (Reshape)        (None, 1)                    0         ['embedding_29[0][0]']        \n",
            "                                                                                                  \n",
            " reshape_31 (Reshape)        (None, 1)                    0         ['embedding_31[0][0]']        \n",
            "                                                                                                  \n",
            " add_7 (Add)                 (None, 768)                  0         ['dot_7[0][0]',               \n",
            "                                                                     'reshape_29[0][0]',          \n",
            "                                                                     'reshape_31[0][0]',          \n",
            "                                                                     'input_24[0][0]']            \n",
            "                                                                                                  \n",
            " activation_7 (Activation)   (None, 768)                  0         ['add_7[0][0]']               \n",
            "                                                                                                  \n",
            " lambda_7 (Lambda)           (None, 768)                  0         ['activation_7[0][0]']        \n",
            "                                                                                                  \n",
            " dense_35 (Dense)            (None, 1)                    769       ['lambda_7[0][0]']            \n",
            "                                                                                                  \n",
            "==================================================================================================\n",
            "Total params: 80778984 (308.15 MB)\n",
            "Trainable params: 80778984 (308.15 MB)\n",
            "Non-trainable params: 0 (0.00 Byte)\n",
            "__________________________________________________________________________________________________\n",
            "Epoch 1/150\n",
            "1885/1886 [============================>.] - ETA: 0s - loss: 0.6616 - mae: 0.5883 - mse: 0.6497"
          ]
        },
        {
          "output_type": "stream",
          "name": "stderr",
          "text": [
            "/usr/local/lib/python3.10/dist-packages/keras/src/engine/training.py:3103: UserWarning: You are saving your model as an HDF5 file via `model.save()`. This file format is considered legacy. We recommend using instead the native Keras format, e.g. `model.save('my_model.keras')`.\n",
            "  saving_api.save_model(\n"
          ]
        },
        {
          "output_type": "stream",
          "name": "stdout",
          "text": [
            "\b\b\b\b\b\b\b\b\b\b\b\b\b\b\b\b\b\b\b\b\b\b\b\b\b\b\b\b\b\b\b\b\b\b\b\b\b\b\b\b\b\b\b\b\b\b\b\b\b\b\b\b\b\b\b\b\b\b\b\b\b\b\b\b\b\b\b\b\b\b\b\b\b\b\b\b\b\b\b\b\b\b\b\b\b\b\b\b\b\b\b\b\b\b\b\r1886/1886 [==============================] - 74s 37ms/step - loss: 0.6617 - mae: 0.5883 - mse: 0.6498 - val_loss: 0.6832 - val_mae: 0.6368 - val_mse: 0.6595\n",
            "Epoch 2/150\n",
            "1886/1886 [==============================] - 74s 39ms/step - loss: 0.4264 - mae: 0.4639 - mse: 0.3958 - val_loss: 0.6482 - val_mae: 0.6193 - val_mse: 0.6108\n",
            "Epoch 3/150\n",
            "1886/1886 [==============================] - 75s 40ms/step - loss: 0.3324 - mae: 0.3957 - mse: 0.2945 - val_loss: 0.5877 - val_mae: 0.5439 - val_mse: 0.5478\n",
            "Epoch 4/150\n",
            "1886/1886 [==============================] - 64s 34ms/step - loss: 0.2865 - mae: 0.3605 - mse: 0.2478 - val_loss: 0.6000 - val_mae: 0.5351 - val_mse: 0.5608\n",
            "Epoch 5/150\n",
            "1886/1886 [==============================] - 75s 40ms/step - loss: 0.2595 - mae: 0.3385 - mse: 0.2227 - val_loss: 0.5846 - val_mae: 0.5242 - val_mse: 0.5477\n",
            "Epoch 6/150\n",
            "1886/1886 [==============================] - 64s 34ms/step - loss: 0.2392 - mae: 0.3239 - mse: 0.2050 - val_loss: 0.6192 - val_mae: 0.5449 - val_mse: 0.5852\n",
            "Epoch 7/150\n",
            "1886/1886 [==============================] - 64s 34ms/step - loss: 0.2236 - mae: 0.3118 - mse: 0.1921 - val_loss: 0.6284 - val_mae: 0.5947 - val_mse: 0.5971\n",
            "Epoch 8/150\n",
            "1886/1886 [==============================] - 74s 39ms/step - loss: 0.2083 - mae: 0.2988 - mse: 0.1789 - val_loss: 0.5836 - val_mae: 0.5461 - val_mse: 0.5540\n",
            "Epoch 9/150\n",
            "1886/1886 [==============================] - 64s 34ms/step - loss: 0.1979 - mae: 0.2908 - mse: 0.1705 - val_loss: 0.6078 - val_mae: 0.5739 - val_mse: 0.5804\n",
            "Epoch 10/150\n",
            "1886/1886 [==============================] - 64s 34ms/step - loss: 0.1873 - mae: 0.2830 - mse: 0.1616 - val_loss: 0.5907 - val_mae: 0.5307 - val_mse: 0.5647\n",
            "Epoch 11/150\n",
            "1886/1886 [==============================] - 64s 34ms/step - loss: 0.1791 - mae: 0.2760 - mse: 0.1548 - val_loss: 0.6018 - val_mae: 0.5317 - val_mse: 0.5771\n"
          ]
        }
      ]
    },
    {
      "cell_type": "code",
      "source": [
        "#迭代图像\n",
        "loss = history.history['loss']\n",
        "val_loss = history.history['val_loss']\n",
        "epochs_range = range(len(loss))\n",
        "plt.plot(epochs_range, loss, label='Train Loss')\n",
        "plt.plot(epochs_range, val_loss, label='Val Loss')\n",
        "plt.legend(loc='upper right')\n",
        "plt.title('Train and Val Loss')\n",
        "plt.show()\n",
        "# 加载最好的训练结果\n",
        "keras_model.load_weights(model_name)\n",
        "y_pred = keras_model.predict(X_test_array)\n",
        "mae = mean_absolute_error(y_test, y_pred)\n",
        "rmse = np.sqrt(mean_squared_error(y_test, y_pred))\n",
        "print('mae,rmse:',mae,rmse)"
      ],
      "metadata": {
        "colab": {
          "base_uri": "https://localhost:8080/",
          "height": 487
        },
        "id": "f6HMO8Kp3Jmm",
        "outputId": "83d73492-622f-4d6c-abb5-902dc01ebc87"
      },
      "execution_count": 29,
      "outputs": [
        {
          "output_type": "display_data",
          "data": {
            "text/plain": [
              "<Figure size 640x480 with 1 Axes>"
            ],
            "image/png": "[encoded data removed]"
          },
          "metadata": {}
        },
        {
          "output_type": "stream",
          "name": "stdout",
          "text": [
            "943/943 [==============================] - 2s 2ms/step\n",
            "mae,rmse: 0.5460859118108189 0.7443390941493762\n"
          ]
        }
      ]
    }
  ]
}